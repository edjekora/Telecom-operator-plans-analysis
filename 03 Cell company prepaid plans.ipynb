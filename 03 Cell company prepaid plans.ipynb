{
 "cells": [
  {
   "cell_type": "markdown",
   "id": "0edbe38b",
   "metadata": {},
   "source": [
    "# Project description\n",
    "\n",
    "You work as an analyst for the telecom operator Megaline. The company offers its clients two prepaid plans, Surf and Ultimate. The commercial department wants to know which of the plans brings in more revenue in order to adjust the advertising budget. <br><br>\n",
    "You are going to carry out a preliminary analysis of the plans based on a relatively small client selection. You'll have the data on 500 Megaline clients: who the clients are, where they're from, which plan they use, and the number of calls they made and text messages they sent in 2018. Your job is to analyze clients' behavior and determine which prepaid plan brings in more revenue."
   ]
  },
  {
   "cell_type": "markdown",
   "id": "3c96ce22",
   "metadata": {},
   "source": [
    "# Table of Contents:\n",
    "\n",
    "1. [Open the data file and study the general information](#Step-1.-Open-the-data-file-and-study-the-general-information)\n",
    "2. [Prepare the data](#Step-2.-Prepare-the-data)\n",
    "    * [Graphical Analysis](#Graphical-analysis)\n",
    "    * [Group the data monthly by users](#For-each-user,-find:)<br><br>\n",
    "    \n",
    "3. [Analyze the data](#Step-3.-Analyze-the-data)\n",
    "4. [Test the hypotheses](#Step-4.-Test-the-hypotheses)\n",
    "5. [Write an overall conclusion](#Step-5.-Write-an-overall-conclusion)"
   ]
  },
  {
   "cell_type": "code",
   "execution_count": 1,
   "id": "4a5164b7",
   "metadata": {},
   "outputs": [],
   "source": [
    "# libraries cell\n",
    "import pandas as pd\n",
    "import numpy as np\n",
    "import matplotlib.pyplot as plt\n",
    "import math\n",
    "import seaborn as sns\n",
    "from scipy import stats as st"
   ]
  },
  {
   "cell_type": "markdown",
   "id": "3d39b529",
   "metadata": {},
   "source": [
    "# Step 1. Open the data file and study the general information\n"
   ]
  },
  {
   "cell_type": "code",
   "execution_count": 2,
   "id": "ab78bf09",
   "metadata": {},
   "outputs": [],
   "source": [
    "# Importing datasets\n",
    "\n",
    "try: # open locally\n",
    "    df_calls = pd.read_csv('datasets/megaline_calls.csv')\n",
    "    df_internet = pd.read_csv('datasets/megaline_internet.csv')\n",
    "    df_messages = pd.read_csv('datasets/megaline_messages.csv')\n",
    "    df_plans = pd.read_csv('datasets/megaline_plans.csv')\n",
    "    df_users = pd.read_csv('datasets/megaline_users.csv')\n",
    "    \n",
    "except: # open on hub\n",
    "    df_calls = pd.read_csv('/datasets/megaline_calls.csv')\n",
    "    df_internet = pd.read_csv('/datasets/megaline_internet.csv')\n",
    "    df_messages = pd.read_csv('/datasets/megaline_messages.csv')\n",
    "    df_plans = pd.read_csv('/datasets/megaline_plans.csv')\n",
    "    df_users = pd.read_csv('/datasets/megaline_users.csv')"
   ]
  },
  {
   "cell_type": "code",
   "execution_count": 3,
   "id": "fcb061cd",
   "metadata": {},
   "outputs": [
    {
     "name": "stdout",
     "output_type": "stream",
     "text": [
      "<class 'pandas.core.frame.DataFrame'>\n",
      "RangeIndex: 137735 entries, 0 to 137734\n",
      "Data columns (total 4 columns):\n",
      " #   Column     Non-Null Count   Dtype  \n",
      "---  ------     --------------   -----  \n",
      " 0   id         137735 non-null  object \n",
      " 1   user_id    137735 non-null  int64  \n",
      " 2   call_date  137735 non-null  object \n",
      " 3   duration   137735 non-null  float64\n",
      "dtypes: float64(1), int64(1), object(2)\n",
      "memory usage: 4.2+ MB\n",
      "None\n",
      "\n",
      "==============================\n",
      "\n",
      "<class 'pandas.core.frame.DataFrame'>\n",
      "RangeIndex: 104825 entries, 0 to 104824\n",
      "Data columns (total 4 columns):\n",
      " #   Column        Non-Null Count   Dtype  \n",
      "---  ------        --------------   -----  \n",
      " 0   id            104825 non-null  object \n",
      " 1   user_id       104825 non-null  int64  \n",
      " 2   session_date  104825 non-null  object \n",
      " 3   mb_used       104825 non-null  float64\n",
      "dtypes: float64(1), int64(1), object(2)\n",
      "memory usage: 3.2+ MB\n",
      "None\n",
      "\n",
      "==============================\n",
      "\n",
      "<class 'pandas.core.frame.DataFrame'>\n",
      "RangeIndex: 76051 entries, 0 to 76050\n",
      "Data columns (total 3 columns):\n",
      " #   Column        Non-Null Count  Dtype \n",
      "---  ------        --------------  ----- \n",
      " 0   id            76051 non-null  object\n",
      " 1   user_id       76051 non-null  int64 \n",
      " 2   message_date  76051 non-null  object\n",
      "dtypes: int64(1), object(2)\n",
      "memory usage: 1.7+ MB\n",
      "None\n",
      "\n",
      "==============================\n",
      "\n",
      "<class 'pandas.core.frame.DataFrame'>\n",
      "RangeIndex: 2 entries, 0 to 1\n",
      "Data columns (total 8 columns):\n",
      " #   Column                 Non-Null Count  Dtype  \n",
      "---  ------                 --------------  -----  \n",
      " 0   messages_included      2 non-null      int64  \n",
      " 1   mb_per_month_included  2 non-null      int64  \n",
      " 2   minutes_included       2 non-null      int64  \n",
      " 3   usd_monthly_pay        2 non-null      int64  \n",
      " 4   usd_per_gb             2 non-null      int64  \n",
      " 5   usd_per_message        2 non-null      float64\n",
      " 6   usd_per_minute         2 non-null      float64\n",
      " 7   plan_name              2 non-null      object \n",
      "dtypes: float64(2), int64(5), object(1)\n",
      "memory usage: 256.0+ bytes\n",
      "None\n",
      "\n",
      "==============================\n",
      "\n",
      "<class 'pandas.core.frame.DataFrame'>\n",
      "RangeIndex: 500 entries, 0 to 499\n",
      "Data columns (total 8 columns):\n",
      " #   Column      Non-Null Count  Dtype \n",
      "---  ------      --------------  ----- \n",
      " 0   user_id     500 non-null    int64 \n",
      " 1   first_name  500 non-null    object\n",
      " 2   last_name   500 non-null    object\n",
      " 3   age         500 non-null    int64 \n",
      " 4   city        500 non-null    object\n",
      " 5   reg_date    500 non-null    object\n",
      " 6   plan        500 non-null    object\n",
      " 7   churn_date  34 non-null     object\n",
      "dtypes: int64(2), object(6)\n",
      "memory usage: 31.4+ KB\n",
      "None\n",
      "\n",
      "==============================\n",
      "\n"
     ]
    }
   ],
   "source": [
    "datasets = [df_calls, df_internet, df_messages, df_plans, df_users] \n",
    "\n",
    "# loop for looking at info's of all the datasets at once\n",
    "for dataset in datasets:\n",
    "    print(dataset.info())\n",
    "    print('\\n==============================\\n')"
   ]
  },
  {
   "cell_type": "markdown",
   "id": "27dbb9f1",
   "metadata": {},
   "source": [
    "#### <font color = 'blue'>Notes:</font>\n",
    "\n",
    "I see empty values only in one column: 'churn_date' in df_users. As explained in project description, 'churn_date' values reflect when users left the company. So all the users who continue using one of the plans didn't leave and don't have no churn date."
   ]
  },
  {
   "cell_type": "code",
   "execution_count": 4,
   "id": "7593de64",
   "metadata": {},
   "outputs": [
    {
     "data": {
      "text/html": [
       "<div>\n",
       "<style scoped>\n",
       "    .dataframe tbody tr th:only-of-type {\n",
       "        vertical-align: middle;\n",
       "    }\n",
       "\n",
       "    .dataframe tbody tr th {\n",
       "        vertical-align: top;\n",
       "    }\n",
       "\n",
       "    .dataframe thead th {\n",
       "        text-align: right;\n",
       "    }\n",
       "</style>\n",
       "<table border=\"1\" class=\"dataframe\">\n",
       "  <thead>\n",
       "    <tr style=\"text-align: right;\">\n",
       "      <th></th>\n",
       "      <th>id</th>\n",
       "      <th>user_id</th>\n",
       "      <th>call_date</th>\n",
       "      <th>duration</th>\n",
       "    </tr>\n",
       "  </thead>\n",
       "  <tbody>\n",
       "    <tr>\n",
       "      <th>0</th>\n",
       "      <td>1000_93</td>\n",
       "      <td>1000</td>\n",
       "      <td>2018-12-27</td>\n",
       "      <td>8.52</td>\n",
       "    </tr>\n",
       "    <tr>\n",
       "      <th>1</th>\n",
       "      <td>1000_145</td>\n",
       "      <td>1000</td>\n",
       "      <td>2018-12-27</td>\n",
       "      <td>13.66</td>\n",
       "    </tr>\n",
       "    <tr>\n",
       "      <th>2</th>\n",
       "      <td>1000_247</td>\n",
       "      <td>1000</td>\n",
       "      <td>2018-12-27</td>\n",
       "      <td>14.48</td>\n",
       "    </tr>\n",
       "    <tr>\n",
       "      <th>3</th>\n",
       "      <td>1000_309</td>\n",
       "      <td>1000</td>\n",
       "      <td>2018-12-28</td>\n",
       "      <td>5.76</td>\n",
       "    </tr>\n",
       "    <tr>\n",
       "      <th>4</th>\n",
       "      <td>1000_380</td>\n",
       "      <td>1000</td>\n",
       "      <td>2018-12-30</td>\n",
       "      <td>4.22</td>\n",
       "    </tr>\n",
       "  </tbody>\n",
       "</table>\n",
       "</div>"
      ],
      "text/plain": [
       "         id  user_id   call_date  duration\n",
       "0   1000_93     1000  2018-12-27      8.52\n",
       "1  1000_145     1000  2018-12-27     13.66\n",
       "2  1000_247     1000  2018-12-27     14.48\n",
       "3  1000_309     1000  2018-12-28      5.76\n",
       "4  1000_380     1000  2018-12-30      4.22"
      ]
     },
     "execution_count": 4,
     "metadata": {},
     "output_type": "execute_result"
    }
   ],
   "source": [
    "datasets[0].head() # calls"
   ]
  },
  {
   "cell_type": "code",
   "execution_count": 5,
   "id": "8df356ed",
   "metadata": {},
   "outputs": [
    {
     "data": {
      "text/html": [
       "<div>\n",
       "<style scoped>\n",
       "    .dataframe tbody tr th:only-of-type {\n",
       "        vertical-align: middle;\n",
       "    }\n",
       "\n",
       "    .dataframe tbody tr th {\n",
       "        vertical-align: top;\n",
       "    }\n",
       "\n",
       "    .dataframe thead th {\n",
       "        text-align: right;\n",
       "    }\n",
       "</style>\n",
       "<table border=\"1\" class=\"dataframe\">\n",
       "  <thead>\n",
       "    <tr style=\"text-align: right;\">\n",
       "      <th></th>\n",
       "      <th>user_id</th>\n",
       "      <th>duration</th>\n",
       "    </tr>\n",
       "  </thead>\n",
       "  <tbody>\n",
       "    <tr>\n",
       "      <th>count</th>\n",
       "      <td>137735.000000</td>\n",
       "      <td>137735.000000</td>\n",
       "    </tr>\n",
       "    <tr>\n",
       "      <th>mean</th>\n",
       "      <td>1247.658046</td>\n",
       "      <td>6.745927</td>\n",
       "    </tr>\n",
       "    <tr>\n",
       "      <th>std</th>\n",
       "      <td>139.416268</td>\n",
       "      <td>5.839241</td>\n",
       "    </tr>\n",
       "    <tr>\n",
       "      <th>min</th>\n",
       "      <td>1000.000000</td>\n",
       "      <td>0.000000</td>\n",
       "    </tr>\n",
       "    <tr>\n",
       "      <th>25%</th>\n",
       "      <td>1128.000000</td>\n",
       "      <td>1.290000</td>\n",
       "    </tr>\n",
       "    <tr>\n",
       "      <th>50%</th>\n",
       "      <td>1247.000000</td>\n",
       "      <td>5.980000</td>\n",
       "    </tr>\n",
       "    <tr>\n",
       "      <th>75%</th>\n",
       "      <td>1365.000000</td>\n",
       "      <td>10.690000</td>\n",
       "    </tr>\n",
       "    <tr>\n",
       "      <th>max</th>\n",
       "      <td>1499.000000</td>\n",
       "      <td>37.600000</td>\n",
       "    </tr>\n",
       "  </tbody>\n",
       "</table>\n",
       "</div>"
      ],
      "text/plain": [
       "             user_id       duration\n",
       "count  137735.000000  137735.000000\n",
       "mean     1247.658046       6.745927\n",
       "std       139.416268       5.839241\n",
       "min      1000.000000       0.000000\n",
       "25%      1128.000000       1.290000\n",
       "50%      1247.000000       5.980000\n",
       "75%      1365.000000      10.690000\n",
       "max      1499.000000      37.600000"
      ]
     },
     "execution_count": 5,
     "metadata": {},
     "output_type": "execute_result"
    }
   ],
   "source": [
    "datasets[0].describe() #calls numerical columns"
   ]
  },
  {
   "cell_type": "code",
   "execution_count": 6,
   "id": "11146ad6",
   "metadata": {},
   "outputs": [
    {
     "data": {
      "text/html": [
       "<div>\n",
       "<style scoped>\n",
       "    .dataframe tbody tr th:only-of-type {\n",
       "        vertical-align: middle;\n",
       "    }\n",
       "\n",
       "    .dataframe tbody tr th {\n",
       "        vertical-align: top;\n",
       "    }\n",
       "\n",
       "    .dataframe thead th {\n",
       "        text-align: right;\n",
       "    }\n",
       "</style>\n",
       "<table border=\"1\" class=\"dataframe\">\n",
       "  <thead>\n",
       "    <tr style=\"text-align: right;\">\n",
       "      <th></th>\n",
       "      <th>id</th>\n",
       "      <th>call_date</th>\n",
       "    </tr>\n",
       "  </thead>\n",
       "  <tbody>\n",
       "    <tr>\n",
       "      <th>count</th>\n",
       "      <td>137735</td>\n",
       "      <td>137735</td>\n",
       "    </tr>\n",
       "    <tr>\n",
       "      <th>unique</th>\n",
       "      <td>137735</td>\n",
       "      <td>351</td>\n",
       "    </tr>\n",
       "    <tr>\n",
       "      <th>top</th>\n",
       "      <td>1120_381</td>\n",
       "      <td>2018-12-27</td>\n",
       "    </tr>\n",
       "    <tr>\n",
       "      <th>freq</th>\n",
       "      <td>1</td>\n",
       "      <td>1091</td>\n",
       "    </tr>\n",
       "  </tbody>\n",
       "</table>\n",
       "</div>"
      ],
      "text/plain": [
       "              id   call_date\n",
       "count     137735      137735\n",
       "unique    137735         351\n",
       "top     1120_381  2018-12-27\n",
       "freq           1        1091"
      ]
     },
     "execution_count": 6,
     "metadata": {},
     "output_type": "execute_result"
    }
   ],
   "source": [
    "datasets[0].describe(include = [object]) #calls object columns"
   ]
  },
  {
   "cell_type": "code",
   "execution_count": 7,
   "id": "fab727e3",
   "metadata": {},
   "outputs": [
    {
     "data": {
      "text/html": [
       "<div>\n",
       "<style scoped>\n",
       "    .dataframe tbody tr th:only-of-type {\n",
       "        vertical-align: middle;\n",
       "    }\n",
       "\n",
       "    .dataframe tbody tr th {\n",
       "        vertical-align: top;\n",
       "    }\n",
       "\n",
       "    .dataframe thead th {\n",
       "        text-align: right;\n",
       "    }\n",
       "</style>\n",
       "<table border=\"1\" class=\"dataframe\">\n",
       "  <thead>\n",
       "    <tr style=\"text-align: right;\">\n",
       "      <th></th>\n",
       "      <th>id</th>\n",
       "      <th>user_id</th>\n",
       "      <th>session_date</th>\n",
       "      <th>mb_used</th>\n",
       "    </tr>\n",
       "  </thead>\n",
       "  <tbody>\n",
       "    <tr>\n",
       "      <th>0</th>\n",
       "      <td>1000_13</td>\n",
       "      <td>1000</td>\n",
       "      <td>2018-12-29</td>\n",
       "      <td>89.86</td>\n",
       "    </tr>\n",
       "    <tr>\n",
       "      <th>1</th>\n",
       "      <td>1000_204</td>\n",
       "      <td>1000</td>\n",
       "      <td>2018-12-31</td>\n",
       "      <td>0.00</td>\n",
       "    </tr>\n",
       "    <tr>\n",
       "      <th>2</th>\n",
       "      <td>1000_379</td>\n",
       "      <td>1000</td>\n",
       "      <td>2018-12-28</td>\n",
       "      <td>660.40</td>\n",
       "    </tr>\n",
       "    <tr>\n",
       "      <th>3</th>\n",
       "      <td>1000_413</td>\n",
       "      <td>1000</td>\n",
       "      <td>2018-12-26</td>\n",
       "      <td>270.99</td>\n",
       "    </tr>\n",
       "    <tr>\n",
       "      <th>4</th>\n",
       "      <td>1000_442</td>\n",
       "      <td>1000</td>\n",
       "      <td>2018-12-27</td>\n",
       "      <td>880.22</td>\n",
       "    </tr>\n",
       "  </tbody>\n",
       "</table>\n",
       "</div>"
      ],
      "text/plain": [
       "         id  user_id session_date  mb_used\n",
       "0   1000_13     1000   2018-12-29    89.86\n",
       "1  1000_204     1000   2018-12-31     0.00\n",
       "2  1000_379     1000   2018-12-28   660.40\n",
       "3  1000_413     1000   2018-12-26   270.99\n",
       "4  1000_442     1000   2018-12-27   880.22"
      ]
     },
     "execution_count": 7,
     "metadata": {},
     "output_type": "execute_result"
    }
   ],
   "source": [
    "datasets[1].head() # internet"
   ]
  },
  {
   "cell_type": "code",
   "execution_count": 8,
   "id": "20a577cf",
   "metadata": {},
   "outputs": [
    {
     "data": {
      "text/html": [
       "<div>\n",
       "<style scoped>\n",
       "    .dataframe tbody tr th:only-of-type {\n",
       "        vertical-align: middle;\n",
       "    }\n",
       "\n",
       "    .dataframe tbody tr th {\n",
       "        vertical-align: top;\n",
       "    }\n",
       "\n",
       "    .dataframe thead th {\n",
       "        text-align: right;\n",
       "    }\n",
       "</style>\n",
       "<table border=\"1\" class=\"dataframe\">\n",
       "  <thead>\n",
       "    <tr style=\"text-align: right;\">\n",
       "      <th></th>\n",
       "      <th>user_id</th>\n",
       "      <th>mb_used</th>\n",
       "    </tr>\n",
       "  </thead>\n",
       "  <tbody>\n",
       "    <tr>\n",
       "      <th>count</th>\n",
       "      <td>104825.000000</td>\n",
       "      <td>104825.000000</td>\n",
       "    </tr>\n",
       "    <tr>\n",
       "      <th>mean</th>\n",
       "      <td>1242.496361</td>\n",
       "      <td>366.713701</td>\n",
       "    </tr>\n",
       "    <tr>\n",
       "      <th>std</th>\n",
       "      <td>142.053913</td>\n",
       "      <td>277.170542</td>\n",
       "    </tr>\n",
       "    <tr>\n",
       "      <th>min</th>\n",
       "      <td>1000.000000</td>\n",
       "      <td>0.000000</td>\n",
       "    </tr>\n",
       "    <tr>\n",
       "      <th>25%</th>\n",
       "      <td>1122.000000</td>\n",
       "      <td>136.080000</td>\n",
       "    </tr>\n",
       "    <tr>\n",
       "      <th>50%</th>\n",
       "      <td>1236.000000</td>\n",
       "      <td>343.980000</td>\n",
       "    </tr>\n",
       "    <tr>\n",
       "      <th>75%</th>\n",
       "      <td>1367.000000</td>\n",
       "      <td>554.610000</td>\n",
       "    </tr>\n",
       "    <tr>\n",
       "      <th>max</th>\n",
       "      <td>1499.000000</td>\n",
       "      <td>1693.470000</td>\n",
       "    </tr>\n",
       "  </tbody>\n",
       "</table>\n",
       "</div>"
      ],
      "text/plain": [
       "             user_id        mb_used\n",
       "count  104825.000000  104825.000000\n",
       "mean     1242.496361     366.713701\n",
       "std       142.053913     277.170542\n",
       "min      1000.000000       0.000000\n",
       "25%      1122.000000     136.080000\n",
       "50%      1236.000000     343.980000\n",
       "75%      1367.000000     554.610000\n",
       "max      1499.000000    1693.470000"
      ]
     },
     "execution_count": 8,
     "metadata": {},
     "output_type": "execute_result"
    }
   ],
   "source": [
    "datasets[1].describe() #internet numerical columns"
   ]
  },
  {
   "cell_type": "code",
   "execution_count": 9,
   "id": "fc60c71e",
   "metadata": {},
   "outputs": [
    {
     "data": {
      "text/html": [
       "<div>\n",
       "<style scoped>\n",
       "    .dataframe tbody tr th:only-of-type {\n",
       "        vertical-align: middle;\n",
       "    }\n",
       "\n",
       "    .dataframe tbody tr th {\n",
       "        vertical-align: top;\n",
       "    }\n",
       "\n",
       "    .dataframe thead th {\n",
       "        text-align: right;\n",
       "    }\n",
       "</style>\n",
       "<table border=\"1\" class=\"dataframe\">\n",
       "  <thead>\n",
       "    <tr style=\"text-align: right;\">\n",
       "      <th></th>\n",
       "      <th>id</th>\n",
       "      <th>session_date</th>\n",
       "    </tr>\n",
       "  </thead>\n",
       "  <tbody>\n",
       "    <tr>\n",
       "      <th>count</th>\n",
       "      <td>104825</td>\n",
       "      <td>104825</td>\n",
       "    </tr>\n",
       "    <tr>\n",
       "      <th>unique</th>\n",
       "      <td>104825</td>\n",
       "      <td>351</td>\n",
       "    </tr>\n",
       "    <tr>\n",
       "      <th>top</th>\n",
       "      <td>1223_168</td>\n",
       "      <td>2018-12-24</td>\n",
       "    </tr>\n",
       "    <tr>\n",
       "      <th>freq</th>\n",
       "      <td>1</td>\n",
       "      <td>851</td>\n",
       "    </tr>\n",
       "  </tbody>\n",
       "</table>\n",
       "</div>"
      ],
      "text/plain": [
       "              id session_date\n",
       "count     104825       104825\n",
       "unique    104825          351\n",
       "top     1223_168   2018-12-24\n",
       "freq           1          851"
      ]
     },
     "execution_count": 9,
     "metadata": {},
     "output_type": "execute_result"
    }
   ],
   "source": [
    "datasets[1].describe(include = [object]) #internet object columns"
   ]
  },
  {
   "cell_type": "code",
   "execution_count": 10,
   "id": "021e1628",
   "metadata": {},
   "outputs": [
    {
     "data": {
      "text/html": [
       "<div>\n",
       "<style scoped>\n",
       "    .dataframe tbody tr th:only-of-type {\n",
       "        vertical-align: middle;\n",
       "    }\n",
       "\n",
       "    .dataframe tbody tr th {\n",
       "        vertical-align: top;\n",
       "    }\n",
       "\n",
       "    .dataframe thead th {\n",
       "        text-align: right;\n",
       "    }\n",
       "</style>\n",
       "<table border=\"1\" class=\"dataframe\">\n",
       "  <thead>\n",
       "    <tr style=\"text-align: right;\">\n",
       "      <th></th>\n",
       "      <th>id</th>\n",
       "      <th>user_id</th>\n",
       "      <th>message_date</th>\n",
       "    </tr>\n",
       "  </thead>\n",
       "  <tbody>\n",
       "    <tr>\n",
       "      <th>0</th>\n",
       "      <td>1000_125</td>\n",
       "      <td>1000</td>\n",
       "      <td>2018-12-27</td>\n",
       "    </tr>\n",
       "    <tr>\n",
       "      <th>1</th>\n",
       "      <td>1000_160</td>\n",
       "      <td>1000</td>\n",
       "      <td>2018-12-31</td>\n",
       "    </tr>\n",
       "    <tr>\n",
       "      <th>2</th>\n",
       "      <td>1000_223</td>\n",
       "      <td>1000</td>\n",
       "      <td>2018-12-31</td>\n",
       "    </tr>\n",
       "    <tr>\n",
       "      <th>3</th>\n",
       "      <td>1000_251</td>\n",
       "      <td>1000</td>\n",
       "      <td>2018-12-27</td>\n",
       "    </tr>\n",
       "    <tr>\n",
       "      <th>4</th>\n",
       "      <td>1000_255</td>\n",
       "      <td>1000</td>\n",
       "      <td>2018-12-26</td>\n",
       "    </tr>\n",
       "  </tbody>\n",
       "</table>\n",
       "</div>"
      ],
      "text/plain": [
       "         id  user_id message_date\n",
       "0  1000_125     1000   2018-12-27\n",
       "1  1000_160     1000   2018-12-31\n",
       "2  1000_223     1000   2018-12-31\n",
       "3  1000_251     1000   2018-12-27\n",
       "4  1000_255     1000   2018-12-26"
      ]
     },
     "execution_count": 10,
     "metadata": {},
     "output_type": "execute_result"
    }
   ],
   "source": [
    "datasets[2].head() # messages"
   ]
  },
  {
   "cell_type": "code",
   "execution_count": 11,
   "id": "332c7bf2",
   "metadata": {},
   "outputs": [
    {
     "data": {
      "text/html": [
       "<div>\n",
       "<style scoped>\n",
       "    .dataframe tbody tr th:only-of-type {\n",
       "        vertical-align: middle;\n",
       "    }\n",
       "\n",
       "    .dataframe tbody tr th {\n",
       "        vertical-align: top;\n",
       "    }\n",
       "\n",
       "    .dataframe thead th {\n",
       "        text-align: right;\n",
       "    }\n",
       "</style>\n",
       "<table border=\"1\" class=\"dataframe\">\n",
       "  <thead>\n",
       "    <tr style=\"text-align: right;\">\n",
       "      <th></th>\n",
       "      <th>user_id</th>\n",
       "    </tr>\n",
       "  </thead>\n",
       "  <tbody>\n",
       "    <tr>\n",
       "      <th>count</th>\n",
       "      <td>76051.000000</td>\n",
       "    </tr>\n",
       "    <tr>\n",
       "      <th>mean</th>\n",
       "      <td>1245.972768</td>\n",
       "    </tr>\n",
       "    <tr>\n",
       "      <th>std</th>\n",
       "      <td>139.843635</td>\n",
       "    </tr>\n",
       "    <tr>\n",
       "      <th>min</th>\n",
       "      <td>1000.000000</td>\n",
       "    </tr>\n",
       "    <tr>\n",
       "      <th>25%</th>\n",
       "      <td>1123.000000</td>\n",
       "    </tr>\n",
       "    <tr>\n",
       "      <th>50%</th>\n",
       "      <td>1251.000000</td>\n",
       "    </tr>\n",
       "    <tr>\n",
       "      <th>75%</th>\n",
       "      <td>1362.000000</td>\n",
       "    </tr>\n",
       "    <tr>\n",
       "      <th>max</th>\n",
       "      <td>1497.000000</td>\n",
       "    </tr>\n",
       "  </tbody>\n",
       "</table>\n",
       "</div>"
      ],
      "text/plain": [
       "            user_id\n",
       "count  76051.000000\n",
       "mean    1245.972768\n",
       "std      139.843635\n",
       "min     1000.000000\n",
       "25%     1123.000000\n",
       "50%     1251.000000\n",
       "75%     1362.000000\n",
       "max     1497.000000"
      ]
     },
     "execution_count": 11,
     "metadata": {},
     "output_type": "execute_result"
    }
   ],
   "source": [
    "datasets[2].describe() #messages numerical columns"
   ]
  },
  {
   "cell_type": "code",
   "execution_count": 12,
   "id": "d182611d",
   "metadata": {},
   "outputs": [
    {
     "data": {
      "text/html": [
       "<div>\n",
       "<style scoped>\n",
       "    .dataframe tbody tr th:only-of-type {\n",
       "        vertical-align: middle;\n",
       "    }\n",
       "\n",
       "    .dataframe tbody tr th {\n",
       "        vertical-align: top;\n",
       "    }\n",
       "\n",
       "    .dataframe thead th {\n",
       "        text-align: right;\n",
       "    }\n",
       "</style>\n",
       "<table border=\"1\" class=\"dataframe\">\n",
       "  <thead>\n",
       "    <tr style=\"text-align: right;\">\n",
       "      <th></th>\n",
       "      <th>id</th>\n",
       "      <th>message_date</th>\n",
       "    </tr>\n",
       "  </thead>\n",
       "  <tbody>\n",
       "    <tr>\n",
       "      <th>count</th>\n",
       "      <td>76051</td>\n",
       "      <td>76051</td>\n",
       "    </tr>\n",
       "    <tr>\n",
       "      <th>unique</th>\n",
       "      <td>76051</td>\n",
       "      <td>351</td>\n",
       "    </tr>\n",
       "    <tr>\n",
       "      <th>top</th>\n",
       "      <td>1120_381</td>\n",
       "      <td>2018-12-28</td>\n",
       "    </tr>\n",
       "    <tr>\n",
       "      <th>freq</th>\n",
       "      <td>1</td>\n",
       "      <td>702</td>\n",
       "    </tr>\n",
       "  </tbody>\n",
       "</table>\n",
       "</div>"
      ],
      "text/plain": [
       "              id message_date\n",
       "count      76051        76051\n",
       "unique     76051          351\n",
       "top     1120_381   2018-12-28\n",
       "freq           1          702"
      ]
     },
     "execution_count": 12,
     "metadata": {},
     "output_type": "execute_result"
    }
   ],
   "source": [
    "datasets[2].describe(include = [object]) #messages object columns"
   ]
  },
  {
   "cell_type": "code",
   "execution_count": 13,
   "id": "53ccf7d5",
   "metadata": {},
   "outputs": [
    {
     "data": {
      "text/html": [
       "<div>\n",
       "<style scoped>\n",
       "    .dataframe tbody tr th:only-of-type {\n",
       "        vertical-align: middle;\n",
       "    }\n",
       "\n",
       "    .dataframe tbody tr th {\n",
       "        vertical-align: top;\n",
       "    }\n",
       "\n",
       "    .dataframe thead th {\n",
       "        text-align: right;\n",
       "    }\n",
       "</style>\n",
       "<table border=\"1\" class=\"dataframe\">\n",
       "  <thead>\n",
       "    <tr style=\"text-align: right;\">\n",
       "      <th></th>\n",
       "      <th>messages_included</th>\n",
       "      <th>mb_per_month_included</th>\n",
       "      <th>minutes_included</th>\n",
       "      <th>usd_monthly_pay</th>\n",
       "      <th>usd_per_gb</th>\n",
       "      <th>usd_per_message</th>\n",
       "      <th>usd_per_minute</th>\n",
       "      <th>plan_name</th>\n",
       "    </tr>\n",
       "  </thead>\n",
       "  <tbody>\n",
       "    <tr>\n",
       "      <th>0</th>\n",
       "      <td>50</td>\n",
       "      <td>15360</td>\n",
       "      <td>500</td>\n",
       "      <td>20</td>\n",
       "      <td>10</td>\n",
       "      <td>0.03</td>\n",
       "      <td>0.03</td>\n",
       "      <td>surf</td>\n",
       "    </tr>\n",
       "    <tr>\n",
       "      <th>1</th>\n",
       "      <td>1000</td>\n",
       "      <td>30720</td>\n",
       "      <td>3000</td>\n",
       "      <td>70</td>\n",
       "      <td>7</td>\n",
       "      <td>0.01</td>\n",
       "      <td>0.01</td>\n",
       "      <td>ultimate</td>\n",
       "    </tr>\n",
       "  </tbody>\n",
       "</table>\n",
       "</div>"
      ],
      "text/plain": [
       "   messages_included  mb_per_month_included  minutes_included  \\\n",
       "0                 50                  15360               500   \n",
       "1               1000                  30720              3000   \n",
       "\n",
       "   usd_monthly_pay  usd_per_gb  usd_per_message  usd_per_minute plan_name  \n",
       "0               20          10             0.03            0.03      surf  \n",
       "1               70           7             0.01            0.01  ultimate  "
      ]
     },
     "execution_count": 13,
     "metadata": {},
     "output_type": "execute_result"
    }
   ],
   "source": [
    "datasets[3] # plans"
   ]
  },
  {
   "cell_type": "code",
   "execution_count": 14,
   "id": "f19a8eeb",
   "metadata": {},
   "outputs": [
    {
     "data": {
      "text/html": [
       "<div>\n",
       "<style scoped>\n",
       "    .dataframe tbody tr th:only-of-type {\n",
       "        vertical-align: middle;\n",
       "    }\n",
       "\n",
       "    .dataframe tbody tr th {\n",
       "        vertical-align: top;\n",
       "    }\n",
       "\n",
       "    .dataframe thead th {\n",
       "        text-align: right;\n",
       "    }\n",
       "</style>\n",
       "<table border=\"1\" class=\"dataframe\">\n",
       "  <thead>\n",
       "    <tr style=\"text-align: right;\">\n",
       "      <th></th>\n",
       "      <th>user_id</th>\n",
       "      <th>first_name</th>\n",
       "      <th>last_name</th>\n",
       "      <th>age</th>\n",
       "      <th>city</th>\n",
       "      <th>reg_date</th>\n",
       "      <th>plan</th>\n",
       "      <th>churn_date</th>\n",
       "    </tr>\n",
       "  </thead>\n",
       "  <tbody>\n",
       "    <tr>\n",
       "      <th>0</th>\n",
       "      <td>1000</td>\n",
       "      <td>Anamaria</td>\n",
       "      <td>Bauer</td>\n",
       "      <td>45</td>\n",
       "      <td>Atlanta-Sandy Springs-Roswell, GA MSA</td>\n",
       "      <td>2018-12-24</td>\n",
       "      <td>ultimate</td>\n",
       "      <td>NaN</td>\n",
       "    </tr>\n",
       "    <tr>\n",
       "      <th>1</th>\n",
       "      <td>1001</td>\n",
       "      <td>Mickey</td>\n",
       "      <td>Wilkerson</td>\n",
       "      <td>28</td>\n",
       "      <td>Seattle-Tacoma-Bellevue, WA MSA</td>\n",
       "      <td>2018-08-13</td>\n",
       "      <td>surf</td>\n",
       "      <td>NaN</td>\n",
       "    </tr>\n",
       "    <tr>\n",
       "      <th>2</th>\n",
       "      <td>1002</td>\n",
       "      <td>Carlee</td>\n",
       "      <td>Hoffman</td>\n",
       "      <td>36</td>\n",
       "      <td>Las Vegas-Henderson-Paradise, NV MSA</td>\n",
       "      <td>2018-10-21</td>\n",
       "      <td>surf</td>\n",
       "      <td>NaN</td>\n",
       "    </tr>\n",
       "    <tr>\n",
       "      <th>3</th>\n",
       "      <td>1003</td>\n",
       "      <td>Reynaldo</td>\n",
       "      <td>Jenkins</td>\n",
       "      <td>52</td>\n",
       "      <td>Tulsa, OK MSA</td>\n",
       "      <td>2018-01-28</td>\n",
       "      <td>surf</td>\n",
       "      <td>NaN</td>\n",
       "    </tr>\n",
       "    <tr>\n",
       "      <th>4</th>\n",
       "      <td>1004</td>\n",
       "      <td>Leonila</td>\n",
       "      <td>Thompson</td>\n",
       "      <td>40</td>\n",
       "      <td>Seattle-Tacoma-Bellevue, WA MSA</td>\n",
       "      <td>2018-05-23</td>\n",
       "      <td>surf</td>\n",
       "      <td>NaN</td>\n",
       "    </tr>\n",
       "  </tbody>\n",
       "</table>\n",
       "</div>"
      ],
      "text/plain": [
       "   user_id first_name  last_name  age                                   city  \\\n",
       "0     1000   Anamaria      Bauer   45  Atlanta-Sandy Springs-Roswell, GA MSA   \n",
       "1     1001     Mickey  Wilkerson   28        Seattle-Tacoma-Bellevue, WA MSA   \n",
       "2     1002     Carlee    Hoffman   36   Las Vegas-Henderson-Paradise, NV MSA   \n",
       "3     1003   Reynaldo    Jenkins   52                          Tulsa, OK MSA   \n",
       "4     1004    Leonila   Thompson   40        Seattle-Tacoma-Bellevue, WA MSA   \n",
       "\n",
       "     reg_date      plan churn_date  \n",
       "0  2018-12-24  ultimate        NaN  \n",
       "1  2018-08-13      surf        NaN  \n",
       "2  2018-10-21      surf        NaN  \n",
       "3  2018-01-28      surf        NaN  \n",
       "4  2018-05-23      surf        NaN  "
      ]
     },
     "execution_count": 14,
     "metadata": {},
     "output_type": "execute_result"
    }
   ],
   "source": [
    "datasets[4].head() # users"
   ]
  },
  {
   "cell_type": "code",
   "execution_count": 15,
   "id": "d72246cf",
   "metadata": {},
   "outputs": [
    {
     "data": {
      "text/html": [
       "<div>\n",
       "<style scoped>\n",
       "    .dataframe tbody tr th:only-of-type {\n",
       "        vertical-align: middle;\n",
       "    }\n",
       "\n",
       "    .dataframe tbody tr th {\n",
       "        vertical-align: top;\n",
       "    }\n",
       "\n",
       "    .dataframe thead th {\n",
       "        text-align: right;\n",
       "    }\n",
       "</style>\n",
       "<table border=\"1\" class=\"dataframe\">\n",
       "  <thead>\n",
       "    <tr style=\"text-align: right;\">\n",
       "      <th></th>\n",
       "      <th>user_id</th>\n",
       "      <th>age</th>\n",
       "    </tr>\n",
       "  </thead>\n",
       "  <tbody>\n",
       "    <tr>\n",
       "      <th>count</th>\n",
       "      <td>500.000000</td>\n",
       "      <td>500.000000</td>\n",
       "    </tr>\n",
       "    <tr>\n",
       "      <th>mean</th>\n",
       "      <td>1249.500000</td>\n",
       "      <td>45.486000</td>\n",
       "    </tr>\n",
       "    <tr>\n",
       "      <th>std</th>\n",
       "      <td>144.481833</td>\n",
       "      <td>16.972269</td>\n",
       "    </tr>\n",
       "    <tr>\n",
       "      <th>min</th>\n",
       "      <td>1000.000000</td>\n",
       "      <td>18.000000</td>\n",
       "    </tr>\n",
       "    <tr>\n",
       "      <th>25%</th>\n",
       "      <td>1124.750000</td>\n",
       "      <td>30.000000</td>\n",
       "    </tr>\n",
       "    <tr>\n",
       "      <th>50%</th>\n",
       "      <td>1249.500000</td>\n",
       "      <td>46.000000</td>\n",
       "    </tr>\n",
       "    <tr>\n",
       "      <th>75%</th>\n",
       "      <td>1374.250000</td>\n",
       "      <td>61.000000</td>\n",
       "    </tr>\n",
       "    <tr>\n",
       "      <th>max</th>\n",
       "      <td>1499.000000</td>\n",
       "      <td>75.000000</td>\n",
       "    </tr>\n",
       "  </tbody>\n",
       "</table>\n",
       "</div>"
      ],
      "text/plain": [
       "           user_id         age\n",
       "count   500.000000  500.000000\n",
       "mean   1249.500000   45.486000\n",
       "std     144.481833   16.972269\n",
       "min    1000.000000   18.000000\n",
       "25%    1124.750000   30.000000\n",
       "50%    1249.500000   46.000000\n",
       "75%    1374.250000   61.000000\n",
       "max    1499.000000   75.000000"
      ]
     },
     "execution_count": 15,
     "metadata": {},
     "output_type": "execute_result"
    }
   ],
   "source": [
    "datasets[4].describe() #users numerical columns"
   ]
  },
  {
   "cell_type": "code",
   "execution_count": 16,
   "id": "d0e2545a",
   "metadata": {},
   "outputs": [
    {
     "data": {
      "text/html": [
       "<div>\n",
       "<style scoped>\n",
       "    .dataframe tbody tr th:only-of-type {\n",
       "        vertical-align: middle;\n",
       "    }\n",
       "\n",
       "    .dataframe tbody tr th {\n",
       "        vertical-align: top;\n",
       "    }\n",
       "\n",
       "    .dataframe thead th {\n",
       "        text-align: right;\n",
       "    }\n",
       "</style>\n",
       "<table border=\"1\" class=\"dataframe\">\n",
       "  <thead>\n",
       "    <tr style=\"text-align: right;\">\n",
       "      <th></th>\n",
       "      <th>first_name</th>\n",
       "      <th>last_name</th>\n",
       "      <th>city</th>\n",
       "      <th>reg_date</th>\n",
       "      <th>plan</th>\n",
       "      <th>churn_date</th>\n",
       "    </tr>\n",
       "  </thead>\n",
       "  <tbody>\n",
       "    <tr>\n",
       "      <th>count</th>\n",
       "      <td>500</td>\n",
       "      <td>500</td>\n",
       "      <td>500</td>\n",
       "      <td>500</td>\n",
       "      <td>500</td>\n",
       "      <td>34</td>\n",
       "    </tr>\n",
       "    <tr>\n",
       "      <th>unique</th>\n",
       "      <td>458</td>\n",
       "      <td>399</td>\n",
       "      <td>73</td>\n",
       "      <td>266</td>\n",
       "      <td>2</td>\n",
       "      <td>29</td>\n",
       "    </tr>\n",
       "    <tr>\n",
       "      <th>top</th>\n",
       "      <td>Leonila</td>\n",
       "      <td>Brock</td>\n",
       "      <td>New York-Newark-Jersey City, NY-NJ-PA MSA</td>\n",
       "      <td>2018-07-12</td>\n",
       "      <td>surf</td>\n",
       "      <td>2018-12-18</td>\n",
       "    </tr>\n",
       "    <tr>\n",
       "      <th>freq</th>\n",
       "      <td>3</td>\n",
       "      <td>3</td>\n",
       "      <td>80</td>\n",
       "      <td>5</td>\n",
       "      <td>339</td>\n",
       "      <td>3</td>\n",
       "    </tr>\n",
       "  </tbody>\n",
       "</table>\n",
       "</div>"
      ],
      "text/plain": [
       "       first_name last_name                                       city  \\\n",
       "count         500       500                                        500   \n",
       "unique        458       399                                         73   \n",
       "top       Leonila     Brock  New York-Newark-Jersey City, NY-NJ-PA MSA   \n",
       "freq            3         3                                         80   \n",
       "\n",
       "          reg_date  plan  churn_date  \n",
       "count          500   500          34  \n",
       "unique         266     2          29  \n",
       "top     2018-07-12  surf  2018-12-18  \n",
       "freq             5   339           3  "
      ]
     },
     "execution_count": 16,
     "metadata": {},
     "output_type": "execute_result"
    }
   ],
   "source": [
    "datasets[4].describe(include = [object]) #users object columns"
   ]
  },
  {
   "cell_type": "markdown",
   "id": "ad40a3cc",
   "metadata": {},
   "source": [
    "<br><br>\n",
    "[^^^ Back to the Table of Contents ^^^](#Table-of-Contents:)"
   ]
  },
  {
   "cell_type": "markdown",
   "id": "b4e9e6d0",
   "metadata": {},
   "source": [
    "# Step 2. Prepare the data\n",
    "\n",
    "* Convert the data to the necessary types\n",
    "* Find and eliminate errors in the data\n",
    "\n",
    "Explain what errors you found and how you removed them. Note: many calls have a duration of 0.0 minutes. These might be missed calls. Whether or not to preprocess these values is up to you; assess how much their absence would affect the results of your analysis."
   ]
  },
  {
   "cell_type": "markdown",
   "id": "6a23acad",
   "metadata": {},
   "source": [
    "#### <font color = 'blue'>Notes:</font>\n",
    "\n",
    "To compare plans and check which one brings more revenue, I want to finish this section with 3 neat and organized tables: calls, messages and internet. To all of them I want to add 'plan' column and also membership lenghth period (which would indicate if the customer had used the plan for the whole period my data accounts for, or only for part of it - so I will know to make adjustments if I will have to compare revenues by some time period). The membership length would be represented in months, or I will add two columns, one in days and other in months, for easier calculation of revenue from each customer per time period.\n",
    "\n",
    "\n",
    "##### So I am going to start with processing the date columns first:\n",
    " * Check lowest and highest date values in the datasets to determine which period of time are we talking to.\n",
    " * Fill in empty values in 'churn_date' with latest date I found - this would be 'period end date'.\n",
    " * Convert all date columns to datetime format.\n",
    " * Calculate membership length by substracting earliest date I have ('period start date') or 'reg_date' (the latest of two) from the updated 'churn_date' column."
   ]
  },
  {
   "cell_type": "code",
   "execution_count": 17,
   "id": "4ddd144c",
   "metadata": {},
   "outputs": [
    {
     "name": "stdout",
     "output_type": "stream",
     "text": [
      "The earliest call date: 2018-01-15\n",
      "The earliest message date: 2018-01-15\n",
      "The earliest session date: 2018-01-15\n",
      "\n",
      "The latest call date: 2018-12-31\n",
      "The latest message date: 2018-12-31\n",
      "The earliest session date: 2018-12-31\n"
     ]
    }
   ],
   "source": [
    "print('The earliest call date: {}'.format(df_calls.call_date.min()))\n",
    "print('The earliest message date: {}'.format(df_messages.message_date.min()))\n",
    "print('The earliest session date: {}'.format(df_internet.session_date.min()))\n",
    "print()\n",
    "print('The latest call date: {}'.format(df_calls.call_date.max()))\n",
    "print('The latest message date: {}'.format(df_messages.message_date.max()))\n",
    "print('The earliest session date: {}'.format(df_internet.session_date.max()))"
   ]
  },
  {
   "cell_type": "code",
   "execution_count": 18,
   "id": "7fd7a926",
   "metadata": {},
   "outputs": [],
   "source": [
    "# The data period start and end days are the same.\n",
    "# I will save them as a separate values:\n",
    "\n",
    "start_date = df_calls.call_date.min()\n",
    "end_date = df_calls.call_date.max()"
   ]
  },
  {
   "cell_type": "code",
   "execution_count": 19,
   "id": "bc163483",
   "metadata": {},
   "outputs": [
    {
     "data": {
      "text/plain": [
       "0"
      ]
     },
     "execution_count": 19,
     "metadata": {},
     "output_type": "execute_result"
    }
   ],
   "source": [
    "# fill missing 'churn_date' values:\n",
    "df_users.churn_date = df_users.churn_date.fillna(end_date)\n",
    "\n",
    "#check the result:\n",
    "df_users.churn_date.isna().sum()"
   ]
  },
  {
   "cell_type": "code",
   "execution_count": 20,
   "id": "91ad7992",
   "metadata": {},
   "outputs": [
    {
     "data": {
      "text/plain": [
       "array([], dtype=object)"
      ]
     },
     "execution_count": 20,
     "metadata": {},
     "output_type": "execute_result"
    }
   ],
   "source": [
    "# replace all 'reg_date' values earlier than 'start_date' with the 'start_date':\n",
    "for value in df_users.query('reg_date < @start_date').reg_date:\n",
    "    df_users.reg_date.replace({value: start_date}, inplace = True)\n",
    "\n",
    "# check if worked:\n",
    "df_users.query('reg_date < @start_date').reg_date.unique()"
   ]
  },
  {
   "cell_type": "code",
   "execution_count": 21,
   "id": "f7ee2077",
   "metadata": {},
   "outputs": [],
   "source": [
    "# convert date columns to datetime format\n",
    "df_calls.call_date = pd.to_datetime(df_calls.call_date, format = '%Y-%m-%d')\n",
    "df_messages.message_date = pd.to_datetime(df_messages.message_date, format = '%Y-%m-%d')\n",
    "df_internet.session_date = pd.to_datetime(df_internet.session_date, format = '%Y-%m-%d')\n",
    "df_users.reg_date = pd.to_datetime(df_users.reg_date, format = '%Y-%m-%d')\n",
    "df_users.churn_date = pd.to_datetime(df_users.churn_date, format = '%Y-%m-%d')"
   ]
  },
  {
   "cell_type": "code",
   "execution_count": 22,
   "id": "2ae075b8",
   "metadata": {},
   "outputs": [
    {
     "data": {
      "text/html": [
       "<div>\n",
       "<style scoped>\n",
       "    .dataframe tbody tr th:only-of-type {\n",
       "        vertical-align: middle;\n",
       "    }\n",
       "\n",
       "    .dataframe tbody tr th {\n",
       "        vertical-align: top;\n",
       "    }\n",
       "\n",
       "    .dataframe thead th {\n",
       "        text-align: right;\n",
       "    }\n",
       "</style>\n",
       "<table border=\"1\" class=\"dataframe\">\n",
       "  <thead>\n",
       "    <tr style=\"text-align: right;\">\n",
       "      <th></th>\n",
       "      <th>user_id</th>\n",
       "      <th>first_name</th>\n",
       "      <th>last_name</th>\n",
       "      <th>age</th>\n",
       "      <th>city</th>\n",
       "      <th>reg_date</th>\n",
       "      <th>plan</th>\n",
       "      <th>churn_date</th>\n",
       "      <th>total_days</th>\n",
       "    </tr>\n",
       "  </thead>\n",
       "  <tbody>\n",
       "    <tr>\n",
       "      <th>473</th>\n",
       "      <td>1473</td>\n",
       "      <td>Kirk</td>\n",
       "      <td>Velez</td>\n",
       "      <td>61</td>\n",
       "      <td>Louisville/Jefferson County, KY-IN MSA</td>\n",
       "      <td>2018-12-31</td>\n",
       "      <td>surf</td>\n",
       "      <td>2018-12-31</td>\n",
       "      <td>1</td>\n",
       "    </tr>\n",
       "    <tr>\n",
       "      <th>307</th>\n",
       "      <td>1307</td>\n",
       "      <td>Kristopher</td>\n",
       "      <td>Lang</td>\n",
       "      <td>28</td>\n",
       "      <td>Boston-Cambridge-Newton, MA-NH MSA</td>\n",
       "      <td>2018-12-31</td>\n",
       "      <td>surf</td>\n",
       "      <td>2018-12-31</td>\n",
       "      <td>1</td>\n",
       "    </tr>\n",
       "    <tr>\n",
       "      <th>108</th>\n",
       "      <td>1108</td>\n",
       "      <td>Porfirio</td>\n",
       "      <td>Kane</td>\n",
       "      <td>45</td>\n",
       "      <td>Salt Lake City, UT MSA</td>\n",
       "      <td>2018-12-30</td>\n",
       "      <td>ultimate</td>\n",
       "      <td>2018-12-31</td>\n",
       "      <td>2</td>\n",
       "    </tr>\n",
       "    <tr>\n",
       "      <th>323</th>\n",
       "      <td>1323</td>\n",
       "      <td>Pamelia</td>\n",
       "      <td>Atkins</td>\n",
       "      <td>42</td>\n",
       "      <td>Baltimore-Columbia-Towson, MD MSA</td>\n",
       "      <td>2018-12-30</td>\n",
       "      <td>surf</td>\n",
       "      <td>2018-12-31</td>\n",
       "      <td>2</td>\n",
       "    </tr>\n",
       "    <tr>\n",
       "      <th>452</th>\n",
       "      <td>1452</td>\n",
       "      <td>Miguel</td>\n",
       "      <td>Sparks</td>\n",
       "      <td>32</td>\n",
       "      <td>Tucson, AZ MSA</td>\n",
       "      <td>2018-12-29</td>\n",
       "      <td>surf</td>\n",
       "      <td>2018-12-31</td>\n",
       "      <td>3</td>\n",
       "    </tr>\n",
       "  </tbody>\n",
       "</table>\n",
       "</div>"
      ],
      "text/plain": [
       "     user_id  first_name last_name  age  \\\n",
       "473     1473        Kirk     Velez   61   \n",
       "307     1307  Kristopher      Lang   28   \n",
       "108     1108    Porfirio      Kane   45   \n",
       "323     1323     Pamelia    Atkins   42   \n",
       "452     1452      Miguel    Sparks   32   \n",
       "\n",
       "                                       city   reg_date      plan churn_date  \\\n",
       "473  Louisville/Jefferson County, KY-IN MSA 2018-12-31      surf 2018-12-31   \n",
       "307      Boston-Cambridge-Newton, MA-NH MSA 2018-12-31      surf 2018-12-31   \n",
       "108                  Salt Lake City, UT MSA 2018-12-30  ultimate 2018-12-31   \n",
       "323       Baltimore-Columbia-Towson, MD MSA 2018-12-30      surf 2018-12-31   \n",
       "452                          Tucson, AZ MSA 2018-12-29      surf 2018-12-31   \n",
       "\n",
       "     total_days  \n",
       "473           1  \n",
       "307           1  \n",
       "108           2  \n",
       "323           2  \n",
       "452           3  "
      ]
     },
     "execution_count": 22,
     "metadata": {},
     "output_type": "execute_result"
    }
   ],
   "source": [
    "# adding days column to users:\n",
    "df_users['total_days'] = (df_users['churn_date'] - df_users['reg_date']).dt.days + 1\n",
    "\n",
    "# check days column:\n",
    "df_users.sort_values('total_days').head()"
   ]
  },
  {
   "cell_type": "code",
   "execution_count": 23,
   "id": "4992fafe",
   "metadata": {},
   "outputs": [
    {
     "data": {
      "text/html": [
       "<div>\n",
       "<style scoped>\n",
       "    .dataframe tbody tr th:only-of-type {\n",
       "        vertical-align: middle;\n",
       "    }\n",
       "\n",
       "    .dataframe tbody tr th {\n",
       "        vertical-align: top;\n",
       "    }\n",
       "\n",
       "    .dataframe thead th {\n",
       "        text-align: right;\n",
       "    }\n",
       "</style>\n",
       "<table border=\"1\" class=\"dataframe\">\n",
       "  <thead>\n",
       "    <tr style=\"text-align: right;\">\n",
       "      <th></th>\n",
       "      <th>user_id</th>\n",
       "      <th>first_name</th>\n",
       "      <th>last_name</th>\n",
       "      <th>age</th>\n",
       "      <th>city</th>\n",
       "      <th>reg_date</th>\n",
       "      <th>plan</th>\n",
       "      <th>churn_date</th>\n",
       "      <th>total_days</th>\n",
       "      <th>total_months</th>\n",
       "    </tr>\n",
       "  </thead>\n",
       "  <tbody>\n",
       "    <tr>\n",
       "      <th>431</th>\n",
       "      <td>1431</td>\n",
       "      <td>Napoleon</td>\n",
       "      <td>Burt</td>\n",
       "      <td>74</td>\n",
       "      <td>Sacramento–Roseville–Folsom, CA MSA</td>\n",
       "      <td>2018-01-28</td>\n",
       "      <td>surf</td>\n",
       "      <td>2018-12-31</td>\n",
       "      <td>338</td>\n",
       "      <td>12</td>\n",
       "    </tr>\n",
       "    <tr>\n",
       "      <th>418</th>\n",
       "      <td>1418</td>\n",
       "      <td>Hal</td>\n",
       "      <td>Barnes</td>\n",
       "      <td>40</td>\n",
       "      <td>New York-Newark-Jersey City, NY-NJ-PA MSA</td>\n",
       "      <td>2018-01-19</td>\n",
       "      <td>surf</td>\n",
       "      <td>2018-12-31</td>\n",
       "      <td>347</td>\n",
       "      <td>12</td>\n",
       "    </tr>\n",
       "    <tr>\n",
       "      <th>445</th>\n",
       "      <td>1445</td>\n",
       "      <td>Elodia</td>\n",
       "      <td>Donovan</td>\n",
       "      <td>71</td>\n",
       "      <td>Dallas-Fort Worth-Arlington, TX MSA</td>\n",
       "      <td>2018-01-27</td>\n",
       "      <td>ultimate</td>\n",
       "      <td>2018-12-31</td>\n",
       "      <td>339</td>\n",
       "      <td>12</td>\n",
       "    </tr>\n",
       "    <tr>\n",
       "      <th>277</th>\n",
       "      <td>1277</td>\n",
       "      <td>Andrew</td>\n",
       "      <td>Faulkner</td>\n",
       "      <td>25</td>\n",
       "      <td>New York-Newark-Jersey City, NY-NJ-PA MSA</td>\n",
       "      <td>2018-02-02</td>\n",
       "      <td>surf</td>\n",
       "      <td>2018-12-31</td>\n",
       "      <td>333</td>\n",
       "      <td>12</td>\n",
       "    </tr>\n",
       "    <tr>\n",
       "      <th>439</th>\n",
       "      <td>1439</td>\n",
       "      <td>Moses</td>\n",
       "      <td>Cabrera</td>\n",
       "      <td>28</td>\n",
       "      <td>Riverside-San Bernardino-Ontario, CA MSA</td>\n",
       "      <td>2018-01-15</td>\n",
       "      <td>surf</td>\n",
       "      <td>2018-12-31</td>\n",
       "      <td>351</td>\n",
       "      <td>12</td>\n",
       "    </tr>\n",
       "  </tbody>\n",
       "</table>\n",
       "</div>"
      ],
      "text/plain": [
       "     user_id first_name last_name  age  \\\n",
       "431     1431   Napoleon      Burt   74   \n",
       "418     1418        Hal    Barnes   40   \n",
       "445     1445     Elodia   Donovan   71   \n",
       "277     1277     Andrew  Faulkner   25   \n",
       "439     1439      Moses   Cabrera   28   \n",
       "\n",
       "                                          city   reg_date      plan  \\\n",
       "431        Sacramento–Roseville–Folsom, CA MSA 2018-01-28      surf   \n",
       "418  New York-Newark-Jersey City, NY-NJ-PA MSA 2018-01-19      surf   \n",
       "445        Dallas-Fort Worth-Arlington, TX MSA 2018-01-27  ultimate   \n",
       "277  New York-Newark-Jersey City, NY-NJ-PA MSA 2018-02-02      surf   \n",
       "439   Riverside-San Bernardino-Ontario, CA MSA 2018-01-15      surf   \n",
       "\n",
       "    churn_date  total_days  total_months  \n",
       "431 2018-12-31         338            12  \n",
       "418 2018-12-31         347            12  \n",
       "445 2018-12-31         339            12  \n",
       "277 2018-12-31         333            12  \n",
       "439 2018-12-31         351            12  "
      ]
     },
     "execution_count": 23,
     "metadata": {},
     "output_type": "execute_result"
    }
   ],
   "source": [
    "# adding months column:\n",
    "df_users['total_months'] = df_users.total_days / 30\n",
    "\n",
    "# rounding months column up (because some of the months values may be very small fraction, for example 1/30)\n",
    "df_users.total_months = df_users.total_months.apply(math.ceil)\n",
    "\n",
    "# check the result:\n",
    "df_users.sort_values('total_months', ascending = False).head()"
   ]
  },
  {
   "cell_type": "markdown",
   "id": "0c48f47e",
   "metadata": {},
   "source": [
    "#### <font color = 'blue'>Notes:</font>\n",
    "\n",
    "Now I am going to check 0 values in calls length. If those are really missing calls, they are usually not charged (and I don't see mention about such a charge in task description and plan costs), so they won't affect the revenues. But if I include them in calculations, they may lower average call costs and I may get inaccurate results."
   ]
  },
  {
   "cell_type": "code",
   "execution_count": 24,
   "id": "a1c8f993",
   "metadata": {},
   "outputs": [
    {
     "data": {
      "text/plain": [
       "0.1948233927469416"
      ]
     },
     "execution_count": 24,
     "metadata": {},
     "output_type": "execute_result"
    }
   ],
   "source": [
    "# check the share of 0 duration calls\n",
    "df_calls.query('duration == 0').duration.count() / len(df_calls)"
   ]
  },
  {
   "cell_type": "markdown",
   "id": "04f0373d",
   "metadata": {},
   "source": [
    "#### <font color = 'blue'>Notes:</font>\n",
    "\n",
    "Almost one fifth of overall calls are missed, it is a very large piece of data. Before making a decision, first I want to see what is the share of those calls in both data plans. "
   ]
  },
  {
   "cell_type": "code",
   "execution_count": 25,
   "id": "d2e8690e",
   "metadata": {},
   "outputs": [],
   "source": [
    "# join relevant columns to calls, messages and internet datasets\n",
    "\n",
    "# list of columns in users dataset I want to join:\n",
    "user_columns_to_join = ['user_id', 'plan', 'total_days', 'total_months']\n",
    "\n",
    "calls_updated = df_calls.merge(df_users[user_columns_to_join], on = 'user_id')\n",
    "messages_updated = df_messages.merge(df_users[user_columns_to_join], on = 'user_id')\n",
    "internet_updated = df_internet.merge(df_users[user_columns_to_join], on = 'user_id')"
   ]
  },
  {
   "cell_type": "code",
   "execution_count": 26,
   "id": "a56fbe25",
   "metadata": {},
   "outputs": [
    {
     "data": {
      "text/plain": [
       "plan\n",
       "surf        0.193519\n",
       "ultimate    0.197636\n",
       "Name: duration, dtype: float64"
      ]
     },
     "execution_count": 26,
     "metadata": {},
     "output_type": "execute_result"
    }
   ],
   "source": [
    "# Compare a share of missed calls in both plans\n",
    "\n",
    "calls_updated.query('duration == 0').groupby('plan').duration.count() / calls_updated.groupby('plan').duration.count()"
   ]
  },
  {
   "cell_type": "markdown",
   "id": "dfdc28f2",
   "metadata": {},
   "source": [
    "#### <font color = 'blue'>Notes:</font>\n",
    "\n",
    "The share of missing calls is the same in both plans, so it won't affect total revenues. I believe I can safely drop them.\n",
    "Also I will convert data types where needed, and then proceed to graphical analysis."
   ]
  },
  {
   "cell_type": "code",
   "execution_count": 27,
   "id": "9a5c15a0",
   "metadata": {},
   "outputs": [
    {
     "name": "stdout",
     "output_type": "stream",
     "text": [
      "<class 'pandas.core.frame.DataFrame'>\n",
      "Int64Index: 110901 entries, 0 to 137734\n",
      "Data columns (total 7 columns):\n",
      " #   Column        Non-Null Count   Dtype         \n",
      "---  ------        --------------   -----         \n",
      " 0   id            110901 non-null  object        \n",
      " 1   user_id       110901 non-null  int64         \n",
      " 2   call_date     110901 non-null  datetime64[ns]\n",
      " 3   duration      110901 non-null  float64       \n",
      " 4   plan          110901 non-null  object        \n",
      " 5   total_days    110901 non-null  int64         \n",
      " 6   total_months  110901 non-null  int64         \n",
      "dtypes: datetime64[ns](1), float64(1), int64(3), object(2)\n",
      "memory usage: 6.8+ MB\n"
     ]
    }
   ],
   "source": [
    "# drop all the missed calls\n",
    "calls_updated = calls_updated.query('duration > 0')\n",
    "\n",
    "# check which columns I need to convert in updated datasets\n",
    "calls_updated.info()"
   ]
  },
  {
   "cell_type": "code",
   "execution_count": 28,
   "id": "5dc796d9",
   "metadata": {},
   "outputs": [
    {
     "name": "stdout",
     "output_type": "stream",
     "text": [
      "<class 'pandas.core.frame.DataFrame'>\n",
      "Int64Index: 110901 entries, 0 to 137734\n",
      "Data columns (total 7 columns):\n",
      " #   Column        Non-Null Count   Dtype         \n",
      "---  ------        --------------   -----         \n",
      " 0   id            110901 non-null  int32         \n",
      " 1   user_id       110901 non-null  int32         \n",
      " 2   call_date     110901 non-null  datetime64[ns]\n",
      " 3   duration      110901 non-null  int32         \n",
      " 4   plan          110901 non-null  object        \n",
      " 5   total_days    110901 non-null  int32         \n",
      " 6   total_months  110901 non-null  int32         \n",
      "dtypes: datetime64[ns](1), int32(5), object(1)\n",
      "memory usage: 4.7+ MB\n"
     ]
    }
   ],
   "source": [
    "# convert relevant columns to ints:\n",
    "\n",
    "calls_updated[['id', 'user_id', 'total_days', \n",
    "               'total_months']] = calls_updated[['id', 'user_id', 'total_days', 'total_months']].astype('int32')\n",
    "\n",
    "messages_updated[['id', 'user_id', 'total_days', \n",
    "                  'total_months']] = messages_updated[['id', 'user_id', 'total_days', 'total_months']].astype('int32')\n",
    "\n",
    "internet_updated[['id', 'user_id', 'total_days', \n",
    "                  'total_months']] = internet_updated[['id', 'user_id', 'total_days', 'total_months']].astype('int32')\n",
    "\n",
    "df_users[['user_id', 'age', 'total_days', \n",
    "          'total_months']] = df_users[['user_id', 'age', 'total_days', 'total_months']].astype('int32')\n",
    "\n",
    "# since individual calls are rounded up, I will also round them up and convert to ints:\n",
    "calls_updated.duration = calls_updated.duration.apply(math.ceil).astype('int32')\n",
    "\n",
    "# look at the example result:\n",
    "calls_updated.info()"
   ]
  },
  {
   "cell_type": "markdown",
   "id": "40abc3f7",
   "metadata": {},
   "source": [
    "<br><br>\n",
    "[^^^ Back to the Table of Contents ^^^](#Table-of-Contents:)"
   ]
  },
  {
   "cell_type": "markdown",
   "id": "804e8624",
   "metadata": {},
   "source": [
    "### Graphical analysis"
   ]
  },
  {
   "cell_type": "code",
   "execution_count": 29,
   "id": "10e3db24",
   "metadata": {},
   "outputs": [
    {
     "data": {
      "image/png": "[encoded data removed]",
      "text/plain": [
       "<Figure size 864x288 with 2 Axes>"
      ]
     },
     "metadata": {
      "needs_background": "light"
     },
     "output_type": "display_data"
    }
   ],
   "source": [
    "# plot histograms for 'total_days' and 'total_months' in 'users' :\n",
    "\n",
    "fig, axis = plt.subplots(1,2, figsize = (12,4))\n",
    "fig.suptitle('Membership period histograms', fontsize = 16)\n",
    "\n",
    "# total_days histogram\n",
    "axis[0].hist(df_users.total_days, bins = 24)\n",
    "axis[0].set_title('Total days column', fontsize = 14)\n",
    "axis[0].set_xlabel('Days count')\n",
    "axis[0].set_ylabel('Total values')\n",
    "\n",
    "# total_months histogram\n",
    "axis[1].hist(df_users.total_months, bins = 12, color = 'green')\n",
    "axis[1].set_title('Total months column', fontsize = 14)\n",
    "axis[1].set_xlabel('Months count')\n",
    "axis[1].set_ylabel('Total values')\n",
    "\n",
    "plt.show()"
   ]
  },
  {
   "cell_type": "markdown",
   "id": "08fc852b",
   "metadata": {},
   "source": [
    "#### <font color = 'blue'>Notes:</font>\n",
    "\n",
    "Those histograms represent how many many days (or months) was a customer member of the prepaid plan in the reporting period (from 15.1.18 to 31.12.18). I don't see any inconsistencies or irregularities in the data. Both histograms are almost the same, which they should be - total_months column is a direct derivative from total_days, just less detailed. The high peak in the right end of both histograms is easily explained: it doesn't mean there was too many people who participated in plan longer than other, it just means that there was relatively big share of customers who didn't start or end their membership in the middle of the reporting period."
   ]
  },
  {
   "cell_type": "code",
   "execution_count": 30,
   "id": "2dbabc88",
   "metadata": {},
   "outputs": [
    {
     "data": {
      "image/png": "[encoded data removed]",
      "text/plain": [
       "<Figure size 1008x288 with 2 Axes>"
      ]
     },
     "metadata": {
      "needs_background": "light"
     },
     "output_type": "display_data"
    }
   ],
   "source": [
    "# calls histograms\n",
    "\n",
    "fig, axis = plt.subplots(1,2, figsize = (14,4))\n",
    "fig.suptitle('Calls histograms', fontsize = 16)\n",
    "\n",
    "# calls date histogram\n",
    "axis[0].hist(calls_updated.call_date, bins = 50)\n",
    "axis[0].set_title('Calls date column', fontsize = 14)\n",
    "axis[0].set_xlabel('Calls by date')\n",
    "axis[0].set_ylabel('Total values')\n",
    "\n",
    "# calls duration histogram\n",
    "axis[1].hist(calls_updated.duration, bins = 38, color = 'green')\n",
    "axis[1].set_title('Calls duration column', fontsize = 14)\n",
    "axis[1].set_xlabel('Duration in minutes')\n",
    "axis[1].set_ylabel('Total values')\n",
    "\n",
    "plt.show()"
   ]
  },
  {
   "cell_type": "markdown",
   "id": "ff62ca11",
   "metadata": {},
   "source": [
    "#### <font color = 'blue'>Notes:</font>\n",
    "\n",
    "* Total calls amount seems to be positively correlated with date. Maybe both plans were newly declared at a time, and as the time passed, more and more users joined. Or a marketing campaign had place in first quarter of the year. Or both. If I look at membership period histograms, it also shows that there are much more customers who have been members only for part of the year, than customers who have been members for the whole year, which supports this theory.\n",
    "\n",
    "\n",
    "* Calls duration is totally predictable and looks as it should be (after I adjusted number of bins, considering that all values have been rounded up). The histogram can be described as normal, negatively skewed. Most of the calls seem to have lenght somewhere between 4 and 10 minutes. "
   ]
  },
  {
   "cell_type": "code",
   "execution_count": 31,
   "id": "58db1c44",
   "metadata": {},
   "outputs": [
    {
     "data": {
      "image/png": "[encoded data removed]",
      "text/plain": [
       "<Figure size 1008x288 with 2 Axes>"
      ]
     },
     "metadata": {
      "needs_background": "light"
     },
     "output_type": "display_data"
    }
   ],
   "source": [
    "# internet histograms\n",
    "\n",
    "fig, axis = plt.subplots(1,2, figsize = (14,4))\n",
    "fig.suptitle('Internet', fontsize = 16)\n",
    "\n",
    "# session_date histogram\n",
    "axis[0].hist(internet_updated.session_date, bins = 50)\n",
    "axis[0].set_title('Session date column', fontsize = 14)\n",
    "axis[0].set_xlabel('Internet sesssions by date')\n",
    "axis[0].set_ylabel('Total values')\n",
    "\n",
    "# mb_used histogram\n",
    "axis[1].hist(internet_updated.mb_used, bins = 50, color = 'green')\n",
    "axis[1].set_title('MB used column', fontsize = 14)\n",
    "axis[1].set_xlabel('Megabytes used during session')\n",
    "axis[1].set_ylabel('Total values')\n",
    "\n",
    "plt.show()"
   ]
  },
  {
   "cell_type": "markdown",
   "id": "b4475e52",
   "metadata": {},
   "source": [
    "#### <font color = 'blue'>Notes:</font>\n",
    "\n",
    "* Amount of internet sessions histogram looks similar to amount of calls histogram. It also starts from low values and grows as the time passes. \n",
    "\n",
    "\n",
    "* Data traffic histogram has high peak at lower values I need to investigate further (especially since individual sessions are not being rounded up when calculating the total month cost). Other than that, this histogram looks quite similar to call duration, but with with wider distribution. If I ignore the peak, most of the values concentrated somewhere around 125 to 625 MB."
   ]
  },
  {
   "cell_type": "code",
   "execution_count": 32,
   "id": "2058349c",
   "metadata": {},
   "outputs": [
    {
     "data": {
      "image/png": "[encoded data removed]",
      "text/plain": [
       "<Figure size 432x288 with 1 Axes>"
      ]
     },
     "metadata": {
      "needs_background": "light"
     },
     "output_type": "display_data"
    }
   ],
   "source": [
    "# messages histogram\n",
    "messages_updated.message_date.hist(bins = 50)\n",
    "plt.title('Messages histogram', fontsize = 14)\n",
    "plt.xlabel('Amount of messages by date')\n",
    "plt.ylabel('Total values')\n",
    "\n",
    "plt.show()"
   ]
  },
  {
   "cell_type": "markdown",
   "id": "d4919c2d",
   "metadata": {},
   "source": [
    "#### <font color = 'blue'>Notes:</font>\n",
    "\n",
    "Messages histogram looks consistent as compared to previous histograms. It correlates visually with amount of calls and amount of internet sessions: number of messages also grows over time. I don't see no irregularities here."
   ]
  },
  {
   "cell_type": "code",
   "execution_count": 33,
   "id": "4c5e74ec",
   "metadata": {},
   "outputs": [
    {
     "data": {
      "text/plain": [
       "0.1311423801574052"
      ]
     },
     "execution_count": 33,
     "metadata": {},
     "output_type": "execute_result"
    }
   ],
   "source": [
    "# check share of 0 internet traffic values:\n",
    "internet_updated.query('mb_used == 0').mb_used.count() / len(internet_updated)"
   ]
  },
  {
   "cell_type": "markdown",
   "id": "2f9068c6",
   "metadata": {},
   "source": [
    "#### <font color = 'blue'>Notes:</font>\n",
    "\n",
    "So I have 13% of 0 values. Now I have to decide, what will distort my further calculations most - keeping those rows or dropping them.\n",
    "\n",
    "As far as I understood (from googling the issue :)), empty internet session, among other reasons, could emerge when customer tries to get online and access point name (APN) is missing or is not configured correctly. The server still counts it as a session, but the traffic counter for this session equals zero. It happens mostly when customer joins new cell network and tries to surf before configuring internet settings on his device. I believe this reason for origin of those 0 values is also the most rational one, because I also see gradual increase in calls, messages and data sessions which most probably indicate that more and more new users joined the plans trough the year.\n",
    "\n",
    "Since those 0 values don't included in calculation of plan costs anyway and don't affect revenues, but they can still distort other calculations), I will get rid of them."
   ]
  },
  {
   "cell_type": "code",
   "execution_count": 34,
   "id": "a8bf8e6e",
   "metadata": {},
   "outputs": [
    {
     "data": {
      "image/png": "[encoded data removed]",
      "text/plain": [
       "<Figure size 432x288 with 1 Axes>"
      ]
     },
     "metadata": {
      "needs_background": "light"
     },
     "output_type": "display_data"
    }
   ],
   "source": [
    "internet_updated.mb_used = internet_updated.query('mb_used > 0').mb_used\n",
    "\n",
    "# check updated histogram:\n",
    "internet_updated.mb_used.hist(bins = 35, color = 'green')\n",
    "plt.title('MB used column', fontsize = 14)\n",
    "plt.xlabel('Megabytes used during session')\n",
    "plt.ylabel('Total values')\n",
    "\n",
    "plt.show()"
   ]
  },
  {
   "cell_type": "markdown",
   "id": "d3cc2931",
   "metadata": {},
   "source": [
    "<br><br>\n",
    "[^^^ Back to the Table of Contents ^^^](#Table-of-Contents:)"
   ]
  },
  {
   "cell_type": "markdown",
   "id": "54886781",
   "metadata": {},
   "source": [
    "## For each user, find:\n",
    "* The number of calls made and minutes used per month\n",
    "* The number of text messages sent per month\n",
    "* The volume of data per month\n",
    "* The monthly revenue from each user (subtract the free package limit from the total number of calls, text messages, and data; multiply the result by the calling plan value; add the monthly charge depending on the calling plan)"
   ]
  },
  {
   "cell_type": "code",
   "execution_count": 35,
   "id": "b82351cb",
   "metadata": {},
   "outputs": [],
   "source": [
    "# add month column to calls, messages and internet datasets:\n",
    "\n",
    "calls_updated['month'] = pd.DatetimeIndex(calls_updated['call_date']).month_name()\n",
    "messages_updated['month'] = pd.DatetimeIndex(messages_updated['message_date']).month_name()\n",
    "internet_updated['month'] = pd.DatetimeIndex(internet_updated['session_date']).month_name()"
   ]
  },
  {
   "cell_type": "code",
   "execution_count": 36,
   "id": "d7ce6ca1",
   "metadata": {},
   "outputs": [
    {
     "data": {
      "text/html": [
       "<div>\n",
       "<style scoped>\n",
       "    .dataframe tbody tr th:only-of-type {\n",
       "        vertical-align: middle;\n",
       "    }\n",
       "\n",
       "    .dataframe tbody tr th {\n",
       "        vertical-align: top;\n",
       "    }\n",
       "\n",
       "    .dataframe thead th {\n",
       "        text-align: right;\n",
       "    }\n",
       "</style>\n",
       "<table border=\"1\" class=\"dataframe\">\n",
       "  <thead>\n",
       "    <tr style=\"text-align: right;\">\n",
       "      <th></th>\n",
       "      <th></th>\n",
       "      <th>total_calls</th>\n",
       "      <th>total_minutes</th>\n",
       "    </tr>\n",
       "    <tr>\n",
       "      <th>user_id</th>\n",
       "      <th>month</th>\n",
       "      <th></th>\n",
       "      <th></th>\n",
       "    </tr>\n",
       "  </thead>\n",
       "  <tbody>\n",
       "    <tr>\n",
       "      <th>1000</th>\n",
       "      <th>December</th>\n",
       "      <td>16</td>\n",
       "      <td>124</td>\n",
       "    </tr>\n",
       "    <tr>\n",
       "      <th rowspan=\"4\" valign=\"top\">1001</th>\n",
       "      <th>August</th>\n",
       "      <td>22</td>\n",
       "      <td>182</td>\n",
       "    </tr>\n",
       "    <tr>\n",
       "      <th>December</th>\n",
       "      <td>46</td>\n",
       "      <td>412</td>\n",
       "    </tr>\n",
       "    <tr>\n",
       "      <th>November</th>\n",
       "      <td>49</td>\n",
       "      <td>426</td>\n",
       "    </tr>\n",
       "    <tr>\n",
       "      <th>October</th>\n",
       "      <td>47</td>\n",
       "      <td>393</td>\n",
       "    </tr>\n",
       "  </tbody>\n",
       "</table>\n",
       "</div>"
      ],
      "text/plain": [
       "                  total_calls  total_minutes\n",
       "user_id month                               \n",
       "1000    December           16            124\n",
       "1001    August             22            182\n",
       "        December           46            412\n",
       "        November           49            426\n",
       "        October            47            393"
      ]
     },
     "execution_count": 36,
     "metadata": {},
     "output_type": "execute_result"
    }
   ],
   "source": [
    "# group calls by user_id and month:\n",
    "user_calls = calls_updated.groupby(['user_id', 'month'])['duration'].agg(['count','sum']).rename(\n",
    "    columns={'count':'total_calls', 'sum': 'total_minutes'})\n",
    "\n",
    "# take a look\n",
    "user_calls.head()"
   ]
  },
  {
   "cell_type": "code",
   "execution_count": 37,
   "id": "9258edb5",
   "metadata": {},
   "outputs": [
    {
     "data": {
      "text/html": [
       "<div>\n",
       "<style scoped>\n",
       "    .dataframe tbody tr th:only-of-type {\n",
       "        vertical-align: middle;\n",
       "    }\n",
       "\n",
       "    .dataframe tbody tr th {\n",
       "        vertical-align: top;\n",
       "    }\n",
       "\n",
       "    .dataframe thead th {\n",
       "        text-align: right;\n",
       "    }\n",
       "</style>\n",
       "<table border=\"1\" class=\"dataframe\">\n",
       "  <thead>\n",
       "    <tr style=\"text-align: right;\">\n",
       "      <th></th>\n",
       "      <th></th>\n",
       "      <th>total_messages</th>\n",
       "    </tr>\n",
       "    <tr>\n",
       "      <th>user_id</th>\n",
       "      <th>month</th>\n",
       "      <th></th>\n",
       "    </tr>\n",
       "  </thead>\n",
       "  <tbody>\n",
       "    <tr>\n",
       "      <th>1000</th>\n",
       "      <th>December</th>\n",
       "      <td>11</td>\n",
       "    </tr>\n",
       "    <tr>\n",
       "      <th rowspan=\"4\" valign=\"top\">1001</th>\n",
       "      <th>August</th>\n",
       "      <td>30</td>\n",
       "    </tr>\n",
       "    <tr>\n",
       "      <th>December</th>\n",
       "      <td>44</td>\n",
       "    </tr>\n",
       "    <tr>\n",
       "      <th>November</th>\n",
       "      <td>36</td>\n",
       "    </tr>\n",
       "    <tr>\n",
       "      <th>October</th>\n",
       "      <td>53</td>\n",
       "    </tr>\n",
       "  </tbody>\n",
       "</table>\n",
       "</div>"
      ],
      "text/plain": [
       "                  total_messages\n",
       "user_id month                   \n",
       "1000    December              11\n",
       "1001    August                30\n",
       "        December              44\n",
       "        November              36\n",
       "        October               53"
      ]
     },
     "execution_count": 37,
     "metadata": {},
     "output_type": "execute_result"
    }
   ],
   "source": [
    "# group messages by user_id and month:\n",
    "user_messages = messages_updated.groupby(['user_id', 'month'])['message_date'].agg('count').to_frame().rename(\n",
    "    columns={'message_date':'total_messages'})\n",
    "\n",
    "# take a look\n",
    "user_messages.head()"
   ]
  },
  {
   "cell_type": "code",
   "execution_count": 38,
   "id": "b2a09769",
   "metadata": {},
   "outputs": [
    {
     "data": {
      "text/html": [
       "<div>\n",
       "<style scoped>\n",
       "    .dataframe tbody tr th:only-of-type {\n",
       "        vertical-align: middle;\n",
       "    }\n",
       "\n",
       "    .dataframe tbody tr th {\n",
       "        vertical-align: top;\n",
       "    }\n",
       "\n",
       "    .dataframe thead th {\n",
       "        text-align: right;\n",
       "    }\n",
       "</style>\n",
       "<table border=\"1\" class=\"dataframe\">\n",
       "  <thead>\n",
       "    <tr style=\"text-align: right;\">\n",
       "      <th></th>\n",
       "      <th></th>\n",
       "      <th>total_sessions</th>\n",
       "      <th>total_traffic</th>\n",
       "    </tr>\n",
       "    <tr>\n",
       "      <th>user_id</th>\n",
       "      <th>month</th>\n",
       "      <th></th>\n",
       "      <th></th>\n",
       "    </tr>\n",
       "  </thead>\n",
       "  <tbody>\n",
       "    <tr>\n",
       "      <th>1000</th>\n",
       "      <th>December</th>\n",
       "      <td>4</td>\n",
       "      <td>1902</td>\n",
       "    </tr>\n",
       "    <tr>\n",
       "      <th rowspan=\"4\" valign=\"top\">1001</th>\n",
       "      <th>August</th>\n",
       "      <td>21</td>\n",
       "      <td>6920</td>\n",
       "    </tr>\n",
       "    <tr>\n",
       "      <th>December</th>\n",
       "      <td>53</td>\n",
       "      <td>19370</td>\n",
       "    </tr>\n",
       "    <tr>\n",
       "      <th>November</th>\n",
       "      <td>48</td>\n",
       "      <td>18505</td>\n",
       "    </tr>\n",
       "    <tr>\n",
       "      <th>October</th>\n",
       "      <td>48</td>\n",
       "      <td>22331</td>\n",
       "    </tr>\n",
       "  </tbody>\n",
       "</table>\n",
       "</div>"
      ],
      "text/plain": [
       "                  total_sessions  total_traffic\n",
       "user_id month                                  \n",
       "1000    December               4           1902\n",
       "1001    August                21           6920\n",
       "        December              53          19370\n",
       "        November              48          18505\n",
       "        October               48          22331"
      ]
     },
     "execution_count": 38,
     "metadata": {},
     "output_type": "execute_result"
    }
   ],
   "source": [
    "# group internet by user_id and month:\n",
    "user_internet = internet_updated.groupby(['user_id', 'month'])['mb_used'].agg(['count','sum']).rename(\n",
    "    columns={'count':'total_sessions', 'sum': 'total_traffic'})\n",
    "\n",
    "# round up total_traffic values and convert to int:\n",
    "user_internet['total_traffic'] = user_internet['total_traffic'].apply(math.ceil).astype('int32')\n",
    "\n",
    "# take a look\n",
    "user_internet.head()"
   ]
  },
  {
   "cell_type": "code",
   "execution_count": 39,
   "id": "4fc5a26a",
   "metadata": {},
   "outputs": [
    {
     "data": {
      "text/html": [
       "<div>\n",
       "<style scoped>\n",
       "    .dataframe tbody tr th:only-of-type {\n",
       "        vertical-align: middle;\n",
       "    }\n",
       "\n",
       "    .dataframe tbody tr th {\n",
       "        vertical-align: top;\n",
       "    }\n",
       "\n",
       "    .dataframe thead th {\n",
       "        text-align: right;\n",
       "    }\n",
       "</style>\n",
       "<table border=\"1\" class=\"dataframe\">\n",
       "  <thead>\n",
       "    <tr style=\"text-align: right;\">\n",
       "      <th></th>\n",
       "      <th>user_id</th>\n",
       "      <th>month</th>\n",
       "      <th>total_calls</th>\n",
       "      <th>total_minutes</th>\n",
       "      <th>total_sessions</th>\n",
       "      <th>total_traffic</th>\n",
       "      <th>total_messages</th>\n",
       "      <th>plan</th>\n",
       "    </tr>\n",
       "  </thead>\n",
       "  <tbody>\n",
       "    <tr>\n",
       "      <th>0</th>\n",
       "      <td>1000</td>\n",
       "      <td>December</td>\n",
       "      <td>16</td>\n",
       "      <td>124</td>\n",
       "      <td>4</td>\n",
       "      <td>1902</td>\n",
       "      <td>11</td>\n",
       "      <td>ultimate</td>\n",
       "    </tr>\n",
       "    <tr>\n",
       "      <th>1</th>\n",
       "      <td>1001</td>\n",
       "      <td>August</td>\n",
       "      <td>22</td>\n",
       "      <td>182</td>\n",
       "      <td>21</td>\n",
       "      <td>6920</td>\n",
       "      <td>30</td>\n",
       "      <td>surf</td>\n",
       "    </tr>\n",
       "    <tr>\n",
       "      <th>2</th>\n",
       "      <td>1001</td>\n",
       "      <td>December</td>\n",
       "      <td>46</td>\n",
       "      <td>412</td>\n",
       "      <td>53</td>\n",
       "      <td>19370</td>\n",
       "      <td>44</td>\n",
       "      <td>surf</td>\n",
       "    </tr>\n",
       "    <tr>\n",
       "      <th>3</th>\n",
       "      <td>1001</td>\n",
       "      <td>November</td>\n",
       "      <td>49</td>\n",
       "      <td>426</td>\n",
       "      <td>48</td>\n",
       "      <td>18505</td>\n",
       "      <td>36</td>\n",
       "      <td>surf</td>\n",
       "    </tr>\n",
       "    <tr>\n",
       "      <th>4</th>\n",
       "      <td>1001</td>\n",
       "      <td>October</td>\n",
       "      <td>47</td>\n",
       "      <td>393</td>\n",
       "      <td>48</td>\n",
       "      <td>22331</td>\n",
       "      <td>53</td>\n",
       "      <td>surf</td>\n",
       "    </tr>\n",
       "  </tbody>\n",
       "</table>\n",
       "</div>"
      ],
      "text/plain": [
       "   user_id     month  total_calls  total_minutes  total_sessions  \\\n",
       "0     1000  December           16            124               4   \n",
       "1     1001    August           22            182              21   \n",
       "2     1001  December           46            412              53   \n",
       "3     1001  November           49            426              48   \n",
       "4     1001   October           47            393              48   \n",
       "\n",
       "   total_traffic  total_messages      plan  \n",
       "0           1902              11  ultimate  \n",
       "1           6920              30      surf  \n",
       "2          19370              44      surf  \n",
       "3          18505              36      surf  \n",
       "4          22331              53      surf  "
      ]
     },
     "execution_count": 39,
     "metadata": {},
     "output_type": "execute_result"
    }
   ],
   "source": [
    "# create new table with all users data grouped by months:\n",
    "\n",
    "users_monthly = user_calls[['total_calls', 'total_minutes']].join(\n",
    "    user_internet[['total_sessions', 'total_traffic']], how = 'outer').join(\n",
    "    user_messages['total_messages'], how = 'outer').reset_index(level=[0,1]).merge(\n",
    "    df_users[['user_id', 'plan']], on = 'user_id', how = 'outer').fillna(0)\n",
    "\n",
    "\n",
    "# convert numeric columns to int\n",
    "for column in users_monthly.columns:\n",
    "    if column in ['plan', 'month']:\n",
    "        continue\n",
    "    else:\n",
    "        users_monthly[column] = users_monthly[column].astype('int32')\n",
    "\n",
    "# take a look:\n",
    "users_monthly.head()"
   ]
  },
  {
   "cell_type": "code",
   "execution_count": 40,
   "id": "0cae91ba",
   "metadata": {},
   "outputs": [
    {
     "data": {
      "text/plain": [
       "500"
      ]
     },
     "execution_count": 40,
     "metadata": {},
     "output_type": "execute_result"
    }
   ],
   "source": [
    "#check if all the users entered the combined dataframe (should be 500):\n",
    "len(users_monthly.user_id.unique())"
   ]
  },
  {
   "cell_type": "code",
   "execution_count": 41,
   "id": "8a91fd9d",
   "metadata": {},
   "outputs": [
    {
     "data": {
      "text/html": [
       "<div>\n",
       "<style scoped>\n",
       "    .dataframe tbody tr th:only-of-type {\n",
       "        vertical-align: middle;\n",
       "    }\n",
       "\n",
       "    .dataframe tbody tr th {\n",
       "        vertical-align: top;\n",
       "    }\n",
       "\n",
       "    .dataframe thead th {\n",
       "        text-align: right;\n",
       "    }\n",
       "</style>\n",
       "<table border=\"1\" class=\"dataframe\">\n",
       "  <thead>\n",
       "    <tr style=\"text-align: right;\">\n",
       "      <th></th>\n",
       "      <th>user_id</th>\n",
       "      <th>month</th>\n",
       "      <th>total_calls</th>\n",
       "      <th>total_minutes</th>\n",
       "      <th>total_sessions</th>\n",
       "      <th>total_traffic</th>\n",
       "      <th>total_messages</th>\n",
       "      <th>plan</th>\n",
       "    </tr>\n",
       "  </thead>\n",
       "  <tbody>\n",
       "    <tr>\n",
       "      <th>2293</th>\n",
       "      <td>1025</td>\n",
       "      <td>0</td>\n",
       "      <td>0</td>\n",
       "      <td>0</td>\n",
       "      <td>0</td>\n",
       "      <td>0</td>\n",
       "      <td>0</td>\n",
       "      <td>ultimate</td>\n",
       "    </tr>\n",
       "    <tr>\n",
       "      <th>2294</th>\n",
       "      <td>1129</td>\n",
       "      <td>0</td>\n",
       "      <td>0</td>\n",
       "      <td>0</td>\n",
       "      <td>0</td>\n",
       "      <td>0</td>\n",
       "      <td>0</td>\n",
       "      <td>surf</td>\n",
       "    </tr>\n",
       "    <tr>\n",
       "      <th>2295</th>\n",
       "      <td>1143</td>\n",
       "      <td>0</td>\n",
       "      <td>0</td>\n",
       "      <td>0</td>\n",
       "      <td>0</td>\n",
       "      <td>0</td>\n",
       "      <td>0</td>\n",
       "      <td>surf</td>\n",
       "    </tr>\n",
       "    <tr>\n",
       "      <th>2296</th>\n",
       "      <td>1269</td>\n",
       "      <td>0</td>\n",
       "      <td>0</td>\n",
       "      <td>0</td>\n",
       "      <td>0</td>\n",
       "      <td>0</td>\n",
       "      <td>0</td>\n",
       "      <td>ultimate</td>\n",
       "    </tr>\n",
       "    <tr>\n",
       "      <th>2297</th>\n",
       "      <td>1275</td>\n",
       "      <td>0</td>\n",
       "      <td>0</td>\n",
       "      <td>0</td>\n",
       "      <td>0</td>\n",
       "      <td>0</td>\n",
       "      <td>0</td>\n",
       "      <td>ultimate</td>\n",
       "    </tr>\n",
       "    <tr>\n",
       "      <th>2298</th>\n",
       "      <td>1307</td>\n",
       "      <td>0</td>\n",
       "      <td>0</td>\n",
       "      <td>0</td>\n",
       "      <td>0</td>\n",
       "      <td>0</td>\n",
       "      <td>0</td>\n",
       "      <td>surf</td>\n",
       "    </tr>\n",
       "    <tr>\n",
       "      <th>2299</th>\n",
       "      <td>1319</td>\n",
       "      <td>0</td>\n",
       "      <td>0</td>\n",
       "      <td>0</td>\n",
       "      <td>0</td>\n",
       "      <td>0</td>\n",
       "      <td>0</td>\n",
       "      <td>surf</td>\n",
       "    </tr>\n",
       "    <tr>\n",
       "      <th>2300</th>\n",
       "      <td>1378</td>\n",
       "      <td>0</td>\n",
       "      <td>0</td>\n",
       "      <td>0</td>\n",
       "      <td>0</td>\n",
       "      <td>0</td>\n",
       "      <td>0</td>\n",
       "      <td>surf</td>\n",
       "    </tr>\n",
       "    <tr>\n",
       "      <th>2301</th>\n",
       "      <td>1463</td>\n",
       "      <td>0</td>\n",
       "      <td>0</td>\n",
       "      <td>0</td>\n",
       "      <td>0</td>\n",
       "      <td>0</td>\n",
       "      <td>0</td>\n",
       "      <td>ultimate</td>\n",
       "    </tr>\n",
       "    <tr>\n",
       "      <th>2302</th>\n",
       "      <td>1473</td>\n",
       "      <td>0</td>\n",
       "      <td>0</td>\n",
       "      <td>0</td>\n",
       "      <td>0</td>\n",
       "      <td>0</td>\n",
       "      <td>0</td>\n",
       "      <td>surf</td>\n",
       "    </tr>\n",
       "  </tbody>\n",
       "</table>\n",
       "</div>"
      ],
      "text/plain": [
       "      user_id month  total_calls  total_minutes  total_sessions  \\\n",
       "2293     1025     0            0              0               0   \n",
       "2294     1129     0            0              0               0   \n",
       "2295     1143     0            0              0               0   \n",
       "2296     1269     0            0              0               0   \n",
       "2297     1275     0            0              0               0   \n",
       "2298     1307     0            0              0               0   \n",
       "2299     1319     0            0              0               0   \n",
       "2300     1378     0            0              0               0   \n",
       "2301     1463     0            0              0               0   \n",
       "2302     1473     0            0              0               0   \n",
       "\n",
       "      total_traffic  total_messages      plan  \n",
       "2293              0               0  ultimate  \n",
       "2294              0               0      surf  \n",
       "2295              0               0      surf  \n",
       "2296              0               0  ultimate  \n",
       "2297              0               0  ultimate  \n",
       "2298              0               0      surf  \n",
       "2299              0               0      surf  \n",
       "2300              0               0      surf  \n",
       "2301              0               0  ultimate  \n",
       "2302              0               0      surf  "
      ]
     },
     "execution_count": 41,
     "metadata": {},
     "output_type": "execute_result"
    }
   ],
   "source": [
    "# check if there are users who didn't use calls, messages and internet at all (and don't have 'month' values):\n",
    "\n",
    "users_monthly.query('month == 0')"
   ]
  },
  {
   "cell_type": "markdown",
   "id": "98810d20",
   "metadata": {},
   "source": [
    "#### <font color = 'blue'>Notes:</font>\n",
    "\n",
    "There are 10 of such users out of 500 - only 2%. I don't have a way to know why they didn't use their plans and did they pay monthly fee. It could be some kind of mistake. Anyway, 2% is a relatively small share and I prefer to drop those rows."
   ]
  },
  {
   "cell_type": "code",
   "execution_count": 42,
   "id": "360e643d",
   "metadata": {},
   "outputs": [],
   "source": [
    "users_monthly = users_monthly.query('month != 0')"
   ]
  },
  {
   "cell_type": "code",
   "execution_count": 43,
   "id": "9fb0d888",
   "metadata": {},
   "outputs": [],
   "source": [
    "# function for calculating monthly revenue for each user\n",
    "\n",
    "def revenue(row):\n",
    "    plan = row['plan']\n",
    "    minutes = row['total_minutes']\n",
    "    messages = row['total_messages']\n",
    "    traffic = row['total_traffic']\n",
    "    \n",
    "    if plan == 'surf':\n",
    "        total = 20 # monthly cost of the plan\n",
    "        \n",
    "        # check additional costs of calls\n",
    "        if minutes > 500: \n",
    "            total += (minutes - 500) * 0.03\n",
    "        # check additional cost of the messages\n",
    "        if messages > 50: \n",
    "            total += (messages - 50) * 0.03\n",
    "        # check additional cost of traffic\n",
    "        if traffic > 15360:\n",
    "            total += math.ceil((traffic - 15360) / 1024) * 10\n",
    "        return total\n",
    "    \n",
    "    else:\n",
    "        total = 70\n",
    "        \n",
    "        # check additional costs of calls\n",
    "        if minutes > 3000: \n",
    "            total += (minutes - 3000) * 0.01\n",
    "        # check additional cost of the messages\n",
    "        if messages > 1000: \n",
    "            total += (messages - 1000) * 0.01\n",
    "        # check additional cost of traffic\n",
    "        if traffic > 30720:\n",
    "            total += math.ceil((traffic - 30720) / 1024) * 7\n",
    "        return total      "
   ]
  },
  {
   "cell_type": "code",
   "execution_count": 44,
   "id": "f62e3ef6",
   "metadata": {},
   "outputs": [
    {
     "name": "stdout",
     "output_type": "stream",
     "text": [
      "Monthly cost for row 1: 20\n",
      "Monthly cost for row 2: 60\n",
      "Monthly cost for row 0: 70\n",
      "Monthly cost for row 19: 84\n"
     ]
    }
   ],
   "source": [
    "# check how function works:\n",
    "\n",
    "print('Monthly cost for row 1:', revenue(users_monthly.loc[1])) # answer should be 20\n",
    "print('Monthly cost for row 2:', revenue(users_monthly.loc[2])) # answer should be 60\n",
    "print('Monthly cost for row 0:', revenue(users_monthly.loc[0])) # answer should be 70\n",
    "print('Monthly cost for row 19:', revenue(users_monthly.loc[19])) # answer should be 84"
   ]
  },
  {
   "cell_type": "code",
   "execution_count": 45,
   "id": "2187675b",
   "metadata": {},
   "outputs": [
    {
     "data": {
      "text/html": [
       "<div>\n",
       "<style scoped>\n",
       "    .dataframe tbody tr th:only-of-type {\n",
       "        vertical-align: middle;\n",
       "    }\n",
       "\n",
       "    .dataframe tbody tr th {\n",
       "        vertical-align: top;\n",
       "    }\n",
       "\n",
       "    .dataframe thead th {\n",
       "        text-align: right;\n",
       "    }\n",
       "</style>\n",
       "<table border=\"1\" class=\"dataframe\">\n",
       "  <thead>\n",
       "    <tr style=\"text-align: right;\">\n",
       "      <th></th>\n",
       "      <th>user_id</th>\n",
       "      <th>month</th>\n",
       "      <th>total_calls</th>\n",
       "      <th>total_minutes</th>\n",
       "      <th>total_sessions</th>\n",
       "      <th>total_traffic</th>\n",
       "      <th>total_messages</th>\n",
       "      <th>plan</th>\n",
       "      <th>revenue</th>\n",
       "    </tr>\n",
       "  </thead>\n",
       "  <tbody>\n",
       "    <tr>\n",
       "      <th>0</th>\n",
       "      <td>1000</td>\n",
       "      <td>December</td>\n",
       "      <td>16</td>\n",
       "      <td>124</td>\n",
       "      <td>4</td>\n",
       "      <td>1902</td>\n",
       "      <td>11</td>\n",
       "      <td>ultimate</td>\n",
       "      <td>70</td>\n",
       "    </tr>\n",
       "    <tr>\n",
       "      <th>1</th>\n",
       "      <td>1001</td>\n",
       "      <td>August</td>\n",
       "      <td>22</td>\n",
       "      <td>182</td>\n",
       "      <td>21</td>\n",
       "      <td>6920</td>\n",
       "      <td>30</td>\n",
       "      <td>surf</td>\n",
       "      <td>20</td>\n",
       "    </tr>\n",
       "    <tr>\n",
       "      <th>2</th>\n",
       "      <td>1001</td>\n",
       "      <td>December</td>\n",
       "      <td>46</td>\n",
       "      <td>412</td>\n",
       "      <td>53</td>\n",
       "      <td>19370</td>\n",
       "      <td>44</td>\n",
       "      <td>surf</td>\n",
       "      <td>60</td>\n",
       "    </tr>\n",
       "    <tr>\n",
       "      <th>3</th>\n",
       "      <td>1001</td>\n",
       "      <td>November</td>\n",
       "      <td>49</td>\n",
       "      <td>426</td>\n",
       "      <td>48</td>\n",
       "      <td>18505</td>\n",
       "      <td>36</td>\n",
       "      <td>surf</td>\n",
       "      <td>60</td>\n",
       "    </tr>\n",
       "    <tr>\n",
       "      <th>4</th>\n",
       "      <td>1001</td>\n",
       "      <td>October</td>\n",
       "      <td>47</td>\n",
       "      <td>393</td>\n",
       "      <td>48</td>\n",
       "      <td>22331</td>\n",
       "      <td>53</td>\n",
       "      <td>surf</td>\n",
       "      <td>90</td>\n",
       "    </tr>\n",
       "  </tbody>\n",
       "</table>\n",
       "</div>"
      ],
      "text/plain": [
       "   user_id     month  total_calls  total_minutes  total_sessions  \\\n",
       "0     1000  December           16            124               4   \n",
       "1     1001    August           22            182              21   \n",
       "2     1001  December           46            412              53   \n",
       "3     1001  November           49            426              48   \n",
       "4     1001   October           47            393              48   \n",
       "\n",
       "   total_traffic  total_messages      plan  revenue  \n",
       "0           1902              11  ultimate       70  \n",
       "1           6920              30      surf       20  \n",
       "2          19370              44      surf       60  \n",
       "3          18505              36      surf       60  \n",
       "4          22331              53      surf       90  "
      ]
     },
     "execution_count": 45,
     "metadata": {},
     "output_type": "execute_result"
    }
   ],
   "source": [
    "# add column with average monthly revenue per user:\n",
    "users_monthly['revenue'] = users_monthly.apply(revenue, axis = 1).astype('int32')\n",
    "\n",
    "# take a look\n",
    "users_monthly.head()"
   ]
  },
  {
   "cell_type": "markdown",
   "id": "3e875019",
   "metadata": {},
   "source": [
    "<br><br>\n",
    "[^^^ Back to the Table of Contents ^^^](#Table-of-Contents:)"
   ]
  },
  {
   "cell_type": "markdown",
   "id": "9197794c",
   "metadata": {},
   "source": [
    "# Step 3. Analyze the data\n",
    "Describe the customers' behavior. Find the minutes, texts, and volume of data the users of each plan require per month. Calculate the mean, dispersion, and standard deviation. Plot histograms. Describe the distributions."
   ]
  },
  {
   "cell_type": "code",
   "execution_count": 46,
   "id": "b8956b51",
   "metadata": {},
   "outputs": [
    {
     "data": {
      "text/html": [
       "<div>\n",
       "<style scoped>\n",
       "    .dataframe tbody tr th:only-of-type {\n",
       "        vertical-align: middle;\n",
       "    }\n",
       "\n",
       "    .dataframe tbody tr th {\n",
       "        vertical-align: top;\n",
       "    }\n",
       "\n",
       "    .dataframe thead th {\n",
       "        text-align: right;\n",
       "    }\n",
       "</style>\n",
       "<table border=\"1\" class=\"dataframe\">\n",
       "  <thead>\n",
       "    <tr style=\"text-align: right;\">\n",
       "      <th></th>\n",
       "      <th>month</th>\n",
       "      <th>plan</th>\n",
       "    </tr>\n",
       "  </thead>\n",
       "  <tbody>\n",
       "    <tr>\n",
       "      <th>count</th>\n",
       "      <td>2293</td>\n",
       "      <td>2293</td>\n",
       "    </tr>\n",
       "    <tr>\n",
       "      <th>unique</th>\n",
       "      <td>12</td>\n",
       "      <td>2</td>\n",
       "    </tr>\n",
       "    <tr>\n",
       "      <th>top</th>\n",
       "      <td>December</td>\n",
       "      <td>surf</td>\n",
       "    </tr>\n",
       "    <tr>\n",
       "      <th>freq</th>\n",
       "      <td>469</td>\n",
       "      <td>1573</td>\n",
       "    </tr>\n",
       "  </tbody>\n",
       "</table>\n",
       "</div>"
      ],
      "text/plain": [
       "           month  plan\n",
       "count       2293  2293\n",
       "unique        12     2\n",
       "top     December  surf\n",
       "freq         469  1573"
      ]
     },
     "execution_count": 46,
     "metadata": {},
     "output_type": "execute_result"
    }
   ],
   "source": [
    "# description of categorical columns:\n",
    "users_monthly.describe(include = 'object')"
   ]
  },
  {
   "cell_type": "code",
   "execution_count": 47,
   "id": "cab81482",
   "metadata": {},
   "outputs": [
    {
     "data": {
      "text/html": [
       "<div>\n",
       "<style scoped>\n",
       "    .dataframe tbody tr th:only-of-type {\n",
       "        vertical-align: middle;\n",
       "    }\n",
       "\n",
       "    .dataframe tbody tr th {\n",
       "        vertical-align: top;\n",
       "    }\n",
       "\n",
       "    .dataframe thead th {\n",
       "        text-align: right;\n",
       "    }\n",
       "</style>\n",
       "<table border=\"1\" class=\"dataframe\">\n",
       "  <thead>\n",
       "    <tr style=\"text-align: right;\">\n",
       "      <th></th>\n",
       "      <th>user_id</th>\n",
       "      <th>total_calls</th>\n",
       "      <th>total_minutes</th>\n",
       "      <th>total_sessions</th>\n",
       "      <th>total_traffic</th>\n",
       "      <th>total_messages</th>\n",
       "      <th>revenue</th>\n",
       "    </tr>\n",
       "  </thead>\n",
       "  <tbody>\n",
       "    <tr>\n",
       "      <th>count</th>\n",
       "      <td>2293</td>\n",
       "      <td>2293</td>\n",
       "      <td>2293</td>\n",
       "      <td>2293</td>\n",
       "      <td>2293</td>\n",
       "      <td>2293</td>\n",
       "      <td>2293</td>\n",
       "    </tr>\n",
       "    <tr>\n",
       "      <th>mean</th>\n",
       "      <td>1246</td>\n",
       "      <td>48</td>\n",
       "      <td>429</td>\n",
       "      <td>39</td>\n",
       "      <td>16764</td>\n",
       "      <td>33</td>\n",
       "      <td>64</td>\n",
       "    </tr>\n",
       "    <tr>\n",
       "      <th>std</th>\n",
       "      <td>143</td>\n",
       "      <td>26</td>\n",
       "      <td>236</td>\n",
       "      <td>17</td>\n",
       "      <td>7967</td>\n",
       "      <td>34</td>\n",
       "      <td>46</td>\n",
       "    </tr>\n",
       "    <tr>\n",
       "      <th>min</th>\n",
       "      <td>1000</td>\n",
       "      <td>0</td>\n",
       "      <td>0</td>\n",
       "      <td>0</td>\n",
       "      <td>0</td>\n",
       "      <td>0</td>\n",
       "      <td>20</td>\n",
       "    </tr>\n",
       "    <tr>\n",
       "      <th>25%</th>\n",
       "      <td>1122</td>\n",
       "      <td>30</td>\n",
       "      <td>265</td>\n",
       "      <td>30</td>\n",
       "      <td>12236</td>\n",
       "      <td>3</td>\n",
       "      <td>23</td>\n",
       "    </tr>\n",
       "    <tr>\n",
       "      <th>50%</th>\n",
       "      <td>1245</td>\n",
       "      <td>48</td>\n",
       "      <td>425</td>\n",
       "      <td>41</td>\n",
       "      <td>16831</td>\n",
       "      <td>26</td>\n",
       "      <td>70</td>\n",
       "    </tr>\n",
       "    <tr>\n",
       "      <th>75%</th>\n",
       "      <td>1368</td>\n",
       "      <td>64</td>\n",
       "      <td>572</td>\n",
       "      <td>50</td>\n",
       "      <td>21000</td>\n",
       "      <td>51</td>\n",
       "      <td>70</td>\n",
       "    </tr>\n",
       "    <tr>\n",
       "      <th>max</th>\n",
       "      <td>1499</td>\n",
       "      <td>167</td>\n",
       "      <td>1510</td>\n",
       "      <td>123</td>\n",
       "      <td>70932</td>\n",
       "      <td>266</td>\n",
       "      <td>590</td>\n",
       "    </tr>\n",
       "  </tbody>\n",
       "</table>\n",
       "</div>"
      ],
      "text/plain": [
       "       user_id  total_calls  total_minutes  total_sessions  total_traffic  \\\n",
       "count     2293         2293           2293            2293           2293   \n",
       "mean      1246           48            429              39          16764   \n",
       "std        143           26            236              17           7967   \n",
       "min       1000            0              0               0              0   \n",
       "25%       1122           30            265              30          12236   \n",
       "50%       1245           48            425              41          16831   \n",
       "75%       1368           64            572              50          21000   \n",
       "max       1499          167           1510             123          70932   \n",
       "\n",
       "       total_messages  revenue  \n",
       "count            2293     2293  \n",
       "mean               33       64  \n",
       "std                34       46  \n",
       "min                 0       20  \n",
       "25%                 3       23  \n",
       "50%                26       70  \n",
       "75%                51       70  \n",
       "max               266      590  "
      ]
     },
     "execution_count": 47,
     "metadata": {},
     "output_type": "execute_result"
    }
   ],
   "source": [
    "# description of numerical columns:\n",
    "users_monthly.describe().astype('int32')"
   ]
  },
  {
   "cell_type": "code",
   "execution_count": 48,
   "id": "b6336b67",
   "metadata": {},
   "outputs": [
    {
     "data": {
      "image/png": "[encoded data removed]",
      "text/plain": [
       "<Figure size 648x288 with 1 Axes>"
      ]
     },
     "metadata": {},
     "output_type": "display_data"
    },
    {
     "name": "stdout",
     "output_type": "stream",
     "text": [
      "The means are: \n",
      " plan\n",
      "surf        48.237127\n",
      "ultimate    48.644444\n",
      "Name: total_calls, dtype: float64\n",
      "\n",
      "--------------------\n",
      "\n",
      "The standard deviations are: \n",
      " plan\n",
      "surf        25.927288\n",
      "ultimate    26.811166\n",
      "Name: total_calls, dtype: float64\n",
      "\n",
      "--------------------\n",
      "\n",
      "The coefficients of variation are: \n",
      " plan\n",
      "surf        0.537497\n",
      "ultimate    0.551166\n",
      "Name: total_calls, dtype: float64\n",
      "\n",
      "\n"
     ]
    },
    {
     "data": {
      "image/png": "[encoded data removed]",
      "text/plain": [
       "<Figure size 648x288 with 1 Axes>"
      ]
     },
     "metadata": {},
     "output_type": "display_data"
    },
    {
     "name": "stdout",
     "output_type": "stream",
     "text": [
      "The means are: \n",
      " plan\n",
      "surf        428.749523\n",
      "ultimate    430.450000\n",
      "Name: total_minutes, dtype: float64\n",
      "\n",
      "--------------------\n",
      "\n",
      "The standard deviations are: \n",
      " plan\n",
      "surf        234.453150\n",
      "ultimate    240.508762\n",
      "Name: total_minutes, dtype: float64\n",
      "\n",
      "--------------------\n",
      "\n",
      "The coefficients of variation are: \n",
      " plan\n",
      "surf        0.546830\n",
      "ultimate    0.558738\n",
      "Name: total_minutes, dtype: float64\n",
      "\n",
      "\n"
     ]
    },
    {
     "data": {
      "image/png": "[encoded data removed]",
      "text/plain": [
       "<Figure size 648x288 with 1 Axes>"
      ]
     },
     "metadata": {},
     "output_type": "display_data"
    },
    {
     "name": "stdout",
     "output_type": "stream",
     "text": [
      "The means are: \n",
      " plan\n",
      "surf        39.465353\n",
      "ultimate    40.276389\n",
      "Name: total_sessions, dtype: float64\n",
      "\n",
      "--------------------\n",
      "\n",
      "The standard deviations are: \n",
      " plan\n",
      "surf        17.478510\n",
      "ultimate    16.107169\n",
      "Name: total_sessions, dtype: float64\n",
      "\n",
      "--------------------\n",
      "\n",
      "The coefficients of variation are: \n",
      " plan\n",
      "surf        0.442882\n",
      "ultimate    0.399916\n",
      "Name: total_sessions, dtype: float64\n",
      "\n",
      "\n"
     ]
    },
    {
     "data": {
      "image/png": "[encoded data removed]",
      "text/plain": [
       "<Figure size 648x288 with 1 Axes>"
      ]
     },
     "metadata": {},
     "output_type": "display_data"
    },
    {
     "name": "stdout",
     "output_type": "stream",
     "text": [
      "The means are: \n",
      " plan\n",
      "surf        16558.776860\n",
      "ultimate    17215.202778\n",
      "Name: total_traffic, dtype: float64\n",
      "\n",
      "--------------------\n",
      "\n",
      "The standard deviations are: \n",
      " plan\n",
      "surf        8013.516423\n",
      "ultimate    7851.886627\n",
      "Name: total_traffic, dtype: float64\n",
      "\n",
      "--------------------\n",
      "\n",
      "The coefficients of variation are: \n",
      " plan\n",
      "surf        0.483944\n",
      "ultimate    0.456102\n",
      "Name: total_traffic, dtype: float64\n",
      "\n",
      "\n"
     ]
    },
    {
     "data": {
      "image/png": "[encoded data removed]",
      "text/plain": [
       "<Figure size 648x288 with 1 Axes>"
      ]
     },
     "metadata": {},
     "output_type": "display_data"
    },
    {
     "name": "stdout",
     "output_type": "stream",
     "text": [
      "The means are: \n",
      " plan\n",
      "surf        31.159568\n",
      "ultimate    37.551389\n",
      "Name: total_messages, dtype: float64\n",
      "\n",
      "--------------------\n",
      "\n",
      "The standard deviations are: \n",
      " plan\n",
      "surf        33.566717\n",
      "ultimate    34.767179\n",
      "Name: total_messages, dtype: float64\n",
      "\n",
      "--------------------\n",
      "\n",
      "The coefficients of variation are: \n",
      " plan\n",
      "surf        1.077252\n",
      "ultimate    0.925856\n",
      "Name: total_messages, dtype: float64\n",
      "\n",
      "\n"
     ]
    },
    {
     "data": {
      "image/png": "[encoded data removed]",
      "text/plain": [
       "<Figure size 648x288 with 1 Axes>"
      ]
     },
     "metadata": {},
     "output_type": "display_data"
    },
    {
     "name": "stdout",
     "output_type": "stream",
     "text": [
      "The means are: \n",
      " plan\n",
      "surf        60.479975\n",
      "ultimate    72.313889\n",
      "Name: revenue, dtype: float64\n",
      "\n",
      "--------------------\n",
      "\n",
      "The standard deviations are: \n",
      " plan\n",
      "surf        55.333092\n",
      "ultimate    11.395108\n",
      "Name: revenue, dtype: float64\n",
      "\n",
      "--------------------\n",
      "\n",
      "The coefficients of variation are: \n",
      " plan\n",
      "surf        0.914899\n",
      "ultimate    0.157578\n",
      "Name: revenue, dtype: float64\n",
      "\n",
      "\n"
     ]
    }
   ],
   "source": [
    "for column in users_monthly.columns:\n",
    "    # exclude categorical columns\n",
    "    if column in ['user_id', 'plan', 'month']:\n",
    "        continue\n",
    "    else:\n",
    "        # plot histogram for all the relevant columns\n",
    "        sns.set_style(\"whitegrid\")\n",
    "        plt.figure(figsize = (9,4))\n",
    "        sns.histplot(users_monthly, x = column, hue = 'plan', palette = 'Dark2').set_title(\n",
    "            column.replace('_', ' ').capitalize(), fontsize = 14)\n",
    "        plt.show()\n",
    "        \n",
    "        # mean, dispersion and standard deviation by plan for relevant columns:\n",
    "        print('The means are: \\n', users_monthly.groupby('plan')[column].mean()) \n",
    "        print('\\n--------------------\\n')\n",
    "        print('The standard deviations are: \\n', users_monthly.groupby('plan')[column].std())\n",
    "        print('\\n--------------------\\n')\n",
    "        print('The coefficients of variation are: \\n', \n",
    "              users_monthly.groupby('plan')[column].std() / users_monthly.groupby('plan')[column].mean())\n",
    "        print()\n",
    "        print()"
   ]
  },
  {
   "cell_type": "code",
   "execution_count": 49,
   "id": "6f1d88e1",
   "metadata": {},
   "outputs": [
    {
     "data": {
      "image/png": "[encoded data removed]",
      "text/plain": [
       "<Figure size 504x360 with 1 Axes>"
      ]
     },
     "metadata": {},
     "output_type": "display_data"
    },
    {
     "data": {
      "image/png": "[encoded data removed]",
      "text/plain": [
       "<Figure size 504x360 with 1 Axes>"
      ]
     },
     "metadata": {},
     "output_type": "display_data"
    },
    {
     "data": {
      "image/png": "[encoded data removed]",
      "text/plain": [
       "<Figure size 504x360 with 1 Axes>"
      ]
     },
     "metadata": {},
     "output_type": "display_data"
    },
    {
     "data": {
      "image/png": "[encoded data removed]",
      "text/plain": [
       "<Figure size 504x360 with 1 Axes>"
      ]
     },
     "metadata": {},
     "output_type": "display_data"
    },
    {
     "data": {
      "image/png": "[encoded data removed]",
      "text/plain": [
       "<Figure size 504x360 with 1 Axes>"
      ]
     },
     "metadata": {},
     "output_type": "display_data"
    },
    {
     "data": {
      "image/png": "[encoded data removed]",
      "text/plain": [
       "<Figure size 504x360 with 1 Axes>"
      ]
     },
     "metadata": {},
     "output_type": "display_data"
    }
   ],
   "source": [
    "# boxplot for each of the above columns:\n",
    "for column in users_monthly.columns:\n",
    "    # exclude columns I don't need to analyze\n",
    "    if column in ['user_id', 'plan', 'month']:\n",
    "        continue\n",
    "    else:\n",
    "        fig, ax = plt.subplots(figsize=(7,5))\n",
    "        ax = sns.boxplot(x = 'plan', y = column, data = users_monthly, palette = \"Accent\")\n",
    "        ax.set_title(column.replace('_', ' ').capitalize(), fontsize = 14)"
   ]
  },
  {
   "cell_type": "markdown",
   "id": "97d7d5a8",
   "metadata": {},
   "source": [
    "#### <font color = 'blue'>Notes</font>\n",
    "\n",
    "Most of the users (339 out of 500) are subscribed to 'surf' plan, which is why overall values for 'surf' are higher almost everywhere. 'Surf' monthly cost is much cheaper, so it looks reasonable for most of the users to choose this plan.\n",
    "\n",
    " * **Calls**: \n",
    "     * **Distributions**: both average monthly calls and average monthly minutes histograms are normal, but positively skewed. \n",
    "       <br>Values in calls are ranging between 0 and 100 calls a month, with most of the values placed between 25 and 75. \n",
    "       <br>Values in minutes are ranging between 0 and 1200 minutes, with most of the values placed between 0 and 700.\n",
    "       <br>There is also a peak at the low values - there is significant amount of users who prefer not to call or to make very few calls a month.\n",
    "     * **Users' behavior**: In terms of amount and length of calls users habits are almost the same: average monthly values per user, standard deviation, mean and cv's values are almost similar. In 'ultimate' plan I can see outliers with higher values, which is rational for a plan that includes larger minutes pack. In both plans the typical user makes roughly 25 to 55 calls a month, and spends between 250 and 590 minutes talking. \n",
    "     \n",
    " \n",
    " * **Internet**: \n",
    "     * **Distributions**: both sessions and traffic distributions are normal, positively skewed, with small peak at the small values.\n",
    "       <br>Values in sessions are ranging between 0 and 80, with most of the values placed between 25 and 60.\n",
    "       <br>Values in data traffic are ranging between 0 and 40k, with most of the values placed between 10 and 25k.\n",
    "     * **Users' behavior**: internet usage behavior is also looks quite similar for both plans. In both plans the typical user connects to the internet roughly 30 to 50 times a month, and uses 12,000-21,000 mb of data traffic.\n",
    "\n",
    "\n",
    " * **Messages**: \n",
    "     * **Distributions**: the distribution doesn't look normal, but has quite consistent negative correlation between amount of users and amount of messages. Also this histogram has very high peak at 0 values (which is understandable: most people prefer messengers over 'traditional' sms services). Most of the users send up to 100 messages per month, with main concentration of values lying between 0 and 50 messages.\n",
    "     * **Users' behavior**: there are slightly more monthly messages per 'ultimate' user, than per 'surf' one, which is also should be explained by larger amount of messages included in 'ultimate' plan. An average user sends up to 50-60 messages per month.\n",
    "     \n",
    "     \n",
    " * **Revenue**: although 'Ultimate's mean is larger than 'Surf's, boxplots show that if we count the outliers off, 'Surf' users have larger monthly payment in average, and also a larger maximum. Also the 'Ultimate' plan is much more homogenous, with almost all of the values concentrated around basic plan cost, which is 70. However, 'Surf' plan values are much more scattered and have larger variance overall. While average 'Ultimate' customer pays 70 usd per month (and, due to boxplot, all the payments over 70 should be considered outliers), average 'Surf' customer - which has almost identical behavior and customer habits - pays 20 to 80 usd, with upper whisker nearly reaching 200 usd, before the outliers start.\n",
    " \n",
    "<br><br>\n",
    "[^^^ Back to the Table of Contents ^^^](#Table-of-Contents:) "
   ]
  },
  {
   "cell_type": "markdown",
   "id": "d5aadf30",
   "metadata": {},
   "source": [
    "# Step 4. Test the hypotheses\n",
    "* The average revenue from users of Ultimate and Surf calling plans differs.\n",
    "* The average revenue from users in NY-NJ area is different from that of the users from other regions.\n",
    "\n",
    "\n",
    "You decide what alpha value to use."
   ]
  },
  {
   "cell_type": "markdown",
   "id": "6fb3550e",
   "metadata": {},
   "source": [
    "#### <font color = 'blue'>Null hypothesis (H0) 1:  the expected average revenue for both plan is equal.</font>\n",
    "**Alternate hypothesis (H1) 1: the expected average revenue for both plans is not equal.**"
   ]
  },
  {
   "cell_type": "code",
   "execution_count": 50,
   "id": "cd1bff92",
   "metadata": {},
   "outputs": [
    {
     "name": "stdout",
     "output_type": "stream",
     "text": [
      "0     70\n",
      "19    84\n",
      "20    70\n",
      "26    70\n",
      "27    70\n",
      "Name: revenue, dtype: int32\n",
      "\n",
      "1    20\n",
      "2    60\n",
      "3    60\n",
      "4    90\n",
      "5    20\n",
      "Name: revenue, dtype: int32\n"
     ]
    }
   ],
   "source": [
    "# prepare datasets for comparison\n",
    "ultimate_revenue = users_monthly.query('plan == \"ultimate\"')['revenue']\n",
    "surf_revenue = users_monthly.query('plan == \"surf\"')['revenue']\n",
    "\n",
    "# check the result\n",
    "print(ultimate_revenue.head())\n",
    "print()\n",
    "print(surf_revenue.head())"
   ]
  },
  {
   "cell_type": "code",
   "execution_count": 51,
   "id": "1988aa6e",
   "metadata": {},
   "outputs": [
    {
     "data": {
      "text/plain": [
       "0.04237791553073127"
      ]
     },
     "execution_count": 51,
     "metadata": {},
     "output_type": "execute_result"
    }
   ],
   "source": [
    "# check variances\n",
    "np.var(ultimate_revenue) / np.var(surf_revenue)"
   ]
  },
  {
   "cell_type": "code",
   "execution_count": 52,
   "id": "ea4c0bc5",
   "metadata": {},
   "outputs": [
    {
     "name": "stdout",
     "output_type": "stream",
     "text": [
      "Reject H0. Average revenues of \"Surf\" and \"Ultimate\" plans are not equal.\n"
     ]
    }
   ],
   "source": [
    "# calculate pvalue; variances differ greatly, so equal_var = False\n",
    "pvalue1 = st.ttest_ind(ultimate_revenue, surf_revenue, equal_var = False).pvalue\n",
    "\n",
    "# check null hypothesis:\n",
    "alpha1 = 0.05\n",
    "if pvalue1 > alpha1:\n",
    "    print('The hypothesis cannot be rejected. There is not enough evidence to determine that the samples means are not equal.')\n",
    "else:\n",
    "    print('Reject H0. Average revenues of \"Surf\" and \"Ultimate\" plans are not equal.')"
   ]
  },
  {
   "cell_type": "markdown",
   "id": "e9cec1ac",
   "metadata": {},
   "source": [
    "#### <font color = 'blue'>Null hypothesis (H0) 2:  The expected average revenue from users in NY-NJ area is equal to that of the users from other regions.</font>\n",
    "**Alternate hypothesis (H1) 2: The expected average revenue from users in those areas is not equal to that of the users from other regions**"
   ]
  },
  {
   "cell_type": "code",
   "execution_count": 53,
   "id": "07fd9129",
   "metadata": {},
   "outputs": [
    {
     "data": {
      "text/html": [
       "<div>\n",
       "<style scoped>\n",
       "    .dataframe tbody tr th:only-of-type {\n",
       "        vertical-align: middle;\n",
       "    }\n",
       "\n",
       "    .dataframe tbody tr th {\n",
       "        vertical-align: top;\n",
       "    }\n",
       "\n",
       "    .dataframe thead th {\n",
       "        text-align: right;\n",
       "    }\n",
       "</style>\n",
       "<table border=\"1\" class=\"dataframe\">\n",
       "  <thead>\n",
       "    <tr style=\"text-align: right;\">\n",
       "      <th></th>\n",
       "      <th>user_id</th>\n",
       "      <th>first_name</th>\n",
       "      <th>last_name</th>\n",
       "      <th>age</th>\n",
       "      <th>city</th>\n",
       "      <th>reg_date</th>\n",
       "      <th>plan</th>\n",
       "      <th>churn_date</th>\n",
       "      <th>total_days</th>\n",
       "      <th>total_months</th>\n",
       "    </tr>\n",
       "  </thead>\n",
       "  <tbody>\n",
       "    <tr>\n",
       "      <th>0</th>\n",
       "      <td>1000</td>\n",
       "      <td>Anamaria</td>\n",
       "      <td>Bauer</td>\n",
       "      <td>45</td>\n",
       "      <td>Atlanta-Sandy Springs-Roswell, GA MSA</td>\n",
       "      <td>2018-12-24</td>\n",
       "      <td>ultimate</td>\n",
       "      <td>2018-12-31</td>\n",
       "      <td>8</td>\n",
       "      <td>1</td>\n",
       "    </tr>\n",
       "    <tr>\n",
       "      <th>1</th>\n",
       "      <td>1001</td>\n",
       "      <td>Mickey</td>\n",
       "      <td>Wilkerson</td>\n",
       "      <td>28</td>\n",
       "      <td>Seattle-Tacoma-Bellevue, WA MSA</td>\n",
       "      <td>2018-08-13</td>\n",
       "      <td>surf</td>\n",
       "      <td>2018-12-31</td>\n",
       "      <td>141</td>\n",
       "      <td>5</td>\n",
       "    </tr>\n",
       "    <tr>\n",
       "      <th>2</th>\n",
       "      <td>1002</td>\n",
       "      <td>Carlee</td>\n",
       "      <td>Hoffman</td>\n",
       "      <td>36</td>\n",
       "      <td>Las Vegas-Henderson-Paradise, NV MSA</td>\n",
       "      <td>2018-10-21</td>\n",
       "      <td>surf</td>\n",
       "      <td>2018-12-31</td>\n",
       "      <td>72</td>\n",
       "      <td>3</td>\n",
       "    </tr>\n",
       "    <tr>\n",
       "      <th>3</th>\n",
       "      <td>1003</td>\n",
       "      <td>Reynaldo</td>\n",
       "      <td>Jenkins</td>\n",
       "      <td>52</td>\n",
       "      <td>Tulsa, OK MSA</td>\n",
       "      <td>2018-01-28</td>\n",
       "      <td>surf</td>\n",
       "      <td>2018-12-31</td>\n",
       "      <td>338</td>\n",
       "      <td>12</td>\n",
       "    </tr>\n",
       "    <tr>\n",
       "      <th>4</th>\n",
       "      <td>1004</td>\n",
       "      <td>Leonila</td>\n",
       "      <td>Thompson</td>\n",
       "      <td>40</td>\n",
       "      <td>Seattle-Tacoma-Bellevue, WA MSA</td>\n",
       "      <td>2018-05-23</td>\n",
       "      <td>surf</td>\n",
       "      <td>2018-12-31</td>\n",
       "      <td>223</td>\n",
       "      <td>8</td>\n",
       "    </tr>\n",
       "  </tbody>\n",
       "</table>\n",
       "</div>"
      ],
      "text/plain": [
       "   user_id first_name  last_name  age                                   city  \\\n",
       "0     1000   Anamaria      Bauer   45  Atlanta-Sandy Springs-Roswell, GA MSA   \n",
       "1     1001     Mickey  Wilkerson   28        Seattle-Tacoma-Bellevue, WA MSA   \n",
       "2     1002     Carlee    Hoffman   36   Las Vegas-Henderson-Paradise, NV MSA   \n",
       "3     1003   Reynaldo    Jenkins   52                          Tulsa, OK MSA   \n",
       "4     1004    Leonila   Thompson   40        Seattle-Tacoma-Bellevue, WA MSA   \n",
       "\n",
       "    reg_date      plan churn_date  total_days  total_months  \n",
       "0 2018-12-24  ultimate 2018-12-31           8             1  \n",
       "1 2018-08-13      surf 2018-12-31         141             5  \n",
       "2 2018-10-21      surf 2018-12-31          72             3  \n",
       "3 2018-01-28      surf 2018-12-31         338            12  \n",
       "4 2018-05-23      surf 2018-12-31         223             8  "
      ]
     },
     "execution_count": 53,
     "metadata": {},
     "output_type": "execute_result"
    }
   ],
   "source": [
    "# check again users dataset:\n",
    "df_users.head()"
   ]
  },
  {
   "cell_type": "code",
   "execution_count": 54,
   "id": "280c0361",
   "metadata": {},
   "outputs": [
    {
     "data": {
      "text/plain": [
       "{'New York-Newark-Jersey City, NY-NJ-PA MSA'}"
      ]
     },
     "execution_count": 54,
     "metadata": {},
     "output_type": "execute_result"
    }
   ],
   "source": [
    "# check if there are more than one value that contains str 'New York' in 'city' column:\n",
    "\n",
    "# set for unique values that contain 'New York':\n",
    "new_york_set = set({})\n",
    "\n",
    "for value in df_users.city:\n",
    "    if 'New York' in value:\n",
    "        new_york_set.add(value)\n",
    "\n",
    "new_york_set"
   ]
  },
  {
   "cell_type": "code",
   "execution_count": 55,
   "id": "33b05f44",
   "metadata": {},
   "outputs": [
    {
     "name": "stdout",
     "output_type": "stream",
     "text": [
      "<class 'pandas.core.frame.DataFrame'>\n",
      "Int64Index: 2293 entries, 0 to 2292\n",
      "Data columns (total 11 columns):\n",
      " #   Column        Non-Null Count  Dtype         \n",
      "---  ------        --------------  -----         \n",
      " 0   user_id       2293 non-null   int32         \n",
      " 1   first_name    2293 non-null   object        \n",
      " 2   last_name     2293 non-null   object        \n",
      " 3   age           2293 non-null   int32         \n",
      " 4   city          2293 non-null   object        \n",
      " 5   reg_date      2293 non-null   datetime64[ns]\n",
      " 6   plan          2293 non-null   object        \n",
      " 7   churn_date    2293 non-null   datetime64[ns]\n",
      " 8   total_days    2293 non-null   int32         \n",
      " 9   total_months  2293 non-null   int32         \n",
      " 10  revenue       2293 non-null   int32         \n",
      "dtypes: datetime64[ns](2), int32(5), object(4)\n",
      "memory usage: 170.2+ KB\n"
     ]
    }
   ],
   "source": [
    "# I have only one value for New York, no duplicates.\n",
    "\n",
    "# add revenues to df_users set (I could also add cities to users_monthly set, but it looks too nice with all those numbers):\n",
    "df_users = df_users.merge(users_monthly[['user_id', 'revenue']], on = 'user_id')\n",
    "\n",
    "# check the result:\n",
    "df_users.info()"
   ]
  },
  {
   "cell_type": "code",
   "execution_count": 56,
   "id": "5441deb5",
   "metadata": {},
   "outputs": [
    {
     "name": "stdout",
     "output_type": "stream",
     "text": [
      "56    38\n",
      "57    20\n",
      "75    83\n",
      "76    52\n",
      "77    20\n",
      "Name: revenue, dtype: int32\n",
      "\n",
      "0    70\n",
      "1    20\n",
      "2    60\n",
      "3    60\n",
      "4    90\n",
      "Name: revenue, dtype: int32\n"
     ]
    }
   ],
   "source": [
    "# create two datasets, NY-NJ-PA and others.\n",
    "\n",
    "ny_revenues = df_users.query('city ==\"New York-Newark-Jersey City, NY-NJ-PA MSA\"').revenue\n",
    "other_cities_revenues = df_users.query('city !=\"New York-Newark-Jersey City, NY-NJ-PA MSA\"').revenue\n",
    "\n",
    "# check the datasets:\n",
    "print(ny_revenues.head())\n",
    "print()\n",
    "print(other_cities_revenues.head())"
   ]
  },
  {
   "cell_type": "code",
   "execution_count": 57,
   "id": "29702117",
   "metadata": {},
   "outputs": [
    {
     "data": {
      "text/plain": [
       "0.8502480936335127"
      ]
     },
     "execution_count": 57,
     "metadata": {},
     "output_type": "execute_result"
    }
   ],
   "source": [
    "# check variances:\n",
    "np.var(ny_revenues) / np.var(other_cities_revenues)"
   ]
  },
  {
   "cell_type": "code",
   "execution_count": 58,
   "id": "cd0fb961",
   "metadata": {},
   "outputs": [
    {
     "name": "stdout",
     "output_type": "stream",
     "text": [
      "Reject H0. Average revenues estimated means for NY-NJ and for other cities are not equal\n"
     ]
    }
   ],
   "source": [
    "# calculate pvalue; variances are quite alike, so equal_var = True\n",
    "pvalue2 = st.ttest_ind(ny_revenues, other_cities_revenues, equal_var = True).pvalue\n",
    "\n",
    "# check null hypothesis:\n",
    "alpha1 = 0.05\n",
    "if pvalue1 > alpha1:\n",
    "    print('The hypothesis cannot be rejected. There is not enough evidence to determine that the samples estimated means are not equal.')\n",
    "else:\n",
    "    print('Reject H0. Average revenues estimated means for NY-NJ and for other cities are not equal')"
   ]
  },
  {
   "cell_type": "markdown",
   "id": "9ca52ecd",
   "metadata": {},
   "source": [
    "## Explain:\n",
    "1. How you formulated the null and alternative hypotheses.\n",
    "2. What criterion you used to test the hypotheses and why."
   ]
  },
  {
   "cell_type": "markdown",
   "id": "f29448b2",
   "metadata": {},
   "source": [
    "#### <font color = 'blue'>Answers:</font>\n",
    "1. To find empirical evidence if the revenues for two plans and for NY-NJ and other cities differ, I formulated null hypothesis that the revenues in both cases are equal, and the alternate one - that it is wrong and the revenues differ. \n",
    "2. In case of two different plans, I tested the hypotheses with ttest_ind method, and passed into it 'equal_var = False', because both datasets had different variances. For difference by region, I chose to pass 'equal_var = True', because the variances was almost the same.\n",
    "\n",
    "<br><br>\n",
    "[^^^ Back to the Table of Contents ^^^](#Table-of-Contents:)"
   ]
  },
  {
   "cell_type": "markdown",
   "id": "e92e50f3",
   "metadata": {},
   "source": [
    "# Step 5. Write an overall conclusion"
   ]
  },
  {
   "cell_type": "markdown",
   "id": "fa571eb7",
   "metadata": {},
   "source": [
    "#### <font color = 'blue'>Description of work process:</font>\n",
    "\n",
    "\n",
    "In this project I received few data files from cell company, which contained data for 500 sample customers. Based on those samples, my task was to evaluate two prepaid plans and carry out a preliminary analysis to determine which of the plans brings in more revenue.\n",
    "\n",
    "\n",
    "After importing and examining the datasets, I preprocessed the data:\n",
    "* I checked over what period the data extends, found period's first and last dates. With the help of those dates I calculated the exact membership length in months (rounded up) for each user, during the reference period. This crucial piece of data later helped me to calculate average monthly payment of every customer.\n",
    "* I checked datasets for 'zeroed' calls which I believe to be missed. Because those calls won't contribute in any way to my analysis and won't affect revenues, I dropped those rows.\n",
    "* Later, during graphical analysis, I also found 'zeroed' data sessions which I believe emerged when customers tried to get online with wrong data nework settings. Those values also wasn't useful in any way, but could be potentially harmful, so I dropped them too. \n",
    "\n",
    "\n",
    "While conducting graphical analysis, I found that during the reference period amount of customers (and therefore usage of different cell network services) increased steadily during the time. \n",
    "\n",
    "Then I extracted means and overall uses of different services by user into pivot tables, and merged them into one table which contained almost all the data I needed: for each user, it listed average monthly amount and length of calls, amount and used traffic of internet sessions, and amount of messages. Then with the help of outside function I added column which listed average monthly revenue for each user.\n",
    "\n",
    "After analyzing the data and describing user's behaviors, I tested two main theories: whether expected average monthly revenues differ by plans, and whether they differ in NY-NJ region and in other places. \n",
    "\n",
    "#### <font color = 'blue'>Based on my findings, this preliminary research conclusions are:</font>\n",
    "1. The revenues for both plans are different. I also believe the revenue for 'surf' plan is expected to be greater than revenue for 'ultimate', which is supported by overall user's behavior and conclusions I reached in part 3 of the project. Anyway, additional research on larger sample is obviously needed.\n",
    "2. The revenues also differ by geographical area: revenues for NY-NJ area differ from revenues in all other areas. \n",
    "3. If and when more broad research will be conducted, the revenues for each plan should be also checked by main areas, to see if customer behavior - and revenues - also differ between both plans depending on geography.\n",
    "\n",
    "<br><br>\n",
    "[^^^ Back to the Table of Contents ^^^](#Table-of-Contents:)"
   ]
  }
 ],
 "metadata": {
  "ExecuteTimeLog": [
   {
    "duration": 1636,
    "start_time": "2021-11-14T10:45:50.368Z"
   },
   {
    "duration": 603,
    "start_time": "2021-11-14T10:45:52.007Z"
   },
   {
    "duration": 62,
    "start_time": "2021-11-14T10:45:52.613Z"
   },
   {
    "duration": 20,
    "start_time": "2021-11-14T10:45:52.679Z"
   },
   {
    "duration": 49,
    "start_time": "2021-11-14T10:45:52.722Z"
   },
   {
    "duration": 307,
    "start_time": "2021-11-14T10:45:52.774Z"
   },
   {
    "duration": 11,
    "start_time": "2021-11-14T10:45:53.083Z"
   },
   {
    "duration": 46,
    "start_time": "2021-11-14T10:45:53.098Z"
   },
   {
    "duration": 186,
    "start_time": "2021-11-14T10:45:53.147Z"
   },
   {
    "duration": 10,
    "start_time": "2021-11-14T10:45:53.335Z"
   },
   {
    "duration": 20,
    "start_time": "2021-11-14T10:45:53.348Z"
   },
   {
    "duration": 132,
    "start_time": "2021-11-14T10:45:53.371Z"
   },
   {
    "duration": 20,
    "start_time": "2021-11-14T10:45:53.505Z"
   },
   {
    "duration": 15,
    "start_time": "2021-11-14T10:45:53.527Z"
   },
   {
    "duration": 23,
    "start_time": "2021-11-14T10:45:53.545Z"
   },
   {
    "duration": 86,
    "start_time": "2021-11-14T10:45:53.571Z"
   },
   {
    "duration": 87,
    "start_time": "2021-11-14T10:45:53.660Z"
   },
   {
    "duration": 29,
    "start_time": "2021-11-14T10:45:53.749Z"
   },
   {
    "duration": 7,
    "start_time": "2021-11-14T10:45:53.781Z"
   },
   {
    "duration": 42,
    "start_time": "2021-11-14T10:45:53.792Z"
   },
   {
    "duration": 94,
    "start_time": "2021-11-14T10:45:53.837Z"
   },
   {
    "duration": 25,
    "start_time": "2021-11-14T10:45:53.933Z"
   },
   {
    "duration": 24,
    "start_time": "2021-11-14T10:45:53.966Z"
   },
   {
    "duration": 17,
    "start_time": "2021-11-14T10:45:54.024Z"
   },
   {
    "duration": 101,
    "start_time": "2021-11-14T10:45:54.043Z"
   },
   {
    "duration": 52,
    "start_time": "2021-11-14T10:45:54.146Z"
   },
   {
    "duration": 56,
    "start_time": "2021-11-14T10:45:54.201Z"
   },
   {
    "duration": 285,
    "start_time": "2021-11-14T10:45:54.260Z"
   },
   {
    "duration": 656,
    "start_time": "2021-11-14T10:45:54.548Z"
   },
   {
    "duration": 968,
    "start_time": "2021-11-14T10:45:55.207Z"
   },
   {
    "duration": 903,
    "start_time": "2021-11-14T10:45:56.178Z"
   },
   {
    "duration": 443,
    "start_time": "2021-11-14T10:45:57.084Z"
   },
   {
    "duration": 13,
    "start_time": "2021-11-14T10:45:57.530Z"
   },
   {
    "duration": 589,
    "start_time": "2021-11-14T10:45:57.546Z"
   },
   {
    "duration": 54,
    "start_time": "2021-11-14T10:45:58.140Z"
   },
   {
    "duration": 27,
    "start_time": "2021-11-14T10:45:58.196Z"
   },
   {
    "duration": 48,
    "start_time": "2021-11-14T10:45:58.226Z"
   },
   {
    "duration": 13,
    "start_time": "2021-11-14T10:45:58.277Z"
   },
   {
    "duration": 55,
    "start_time": "2021-11-14T10:45:58.292Z"
   },
   {
    "duration": 40,
    "start_time": "2021-11-14T10:45:58.350Z"
   },
   {
    "duration": 47,
    "start_time": "2021-11-14T10:45:58.394Z"
   },
   {
    "duration": 10,
    "start_time": "2021-11-14T10:45:58.444Z"
   },
   {
    "duration": 14,
    "start_time": "2021-11-14T10:45:58.457Z"
   },
   {
    "duration": 76,
    "start_time": "2021-11-14T10:45:58.474Z"
   },
   {
    "duration": 46,
    "start_time": "2021-11-14T10:45:58.552Z"
   },
   {
    "duration": 440,
    "start_time": "2021-11-14T10:45:58.623Z"
   },
   {
    "duration": -178,
    "start_time": "2021-11-14T10:45:59.244Z"
   },
   {
    "duration": -177,
    "start_time": "2021-11-14T10:45:59.245Z"
   },
   {
    "duration": -179,
    "start_time": "2021-11-14T10:45:59.248Z"
   },
   {
    "duration": -178,
    "start_time": "2021-11-14T10:45:59.249Z"
   },
   {
    "duration": -177,
    "start_time": "2021-11-14T10:45:59.250Z"
   },
   {
    "duration": -177,
    "start_time": "2021-11-14T10:45:59.251Z"
   },
   {
    "duration": -176,
    "start_time": "2021-11-14T10:45:59.252Z"
   },
   {
    "duration": -187,
    "start_time": "2021-11-14T10:45:59.265Z"
   },
   {
    "duration": -188,
    "start_time": "2021-11-14T10:45:59.267Z"
   },
   {
    "duration": -187,
    "start_time": "2021-11-14T10:45:59.268Z"
   },
   {
    "duration": -186,
    "start_time": "2021-11-14T10:45:59.269Z"
   },
   {
    "duration": -192,
    "start_time": "2021-11-14T10:45:59.276Z"
   },
   {
    "duration": 5252,
    "start_time": "2021-11-14T10:46:34.960Z"
   },
   {
    "duration": 1595,
    "start_time": "2021-11-14T10:46:40.216Z"
   },
   {
    "duration": 734,
    "start_time": "2021-11-14T10:46:41.814Z"
   },
   {
    "duration": 59,
    "start_time": "2021-11-14T10:46:42.551Z"
   },
   {
    "duration": 17,
    "start_time": "2021-11-14T10:46:42.613Z"
   },
   {
    "duration": 33,
    "start_time": "2021-11-14T10:46:42.632Z"
   },
   {
    "duration": 238,
    "start_time": "2021-11-14T10:46:42.668Z"
   },
   {
    "duration": 22,
    "start_time": "2021-11-14T10:46:42.908Z"
   },
   {
    "duration": 30,
    "start_time": "2021-11-14T10:46:42.936Z"
   },
   {
    "duration": 252,
    "start_time": "2021-11-14T10:46:42.971Z"
   },
   {
    "duration": 16,
    "start_time": "2021-11-14T10:46:43.226Z"
   },
   {
    "duration": 21,
    "start_time": "2021-11-14T10:46:43.245Z"
   },
   {
    "duration": 129,
    "start_time": "2021-11-14T10:46:43.269Z"
   },
   {
    "duration": 25,
    "start_time": "2021-11-14T10:46:43.401Z"
   },
   {
    "duration": 18,
    "start_time": "2021-11-14T10:46:43.429Z"
   },
   {
    "duration": 39,
    "start_time": "2021-11-14T10:46:43.450Z"
   },
   {
    "duration": 57,
    "start_time": "2021-11-14T10:46:43.531Z"
   },
   {
    "duration": 112,
    "start_time": "2021-11-14T10:46:43.592Z"
   },
   {
    "duration": 43,
    "start_time": "2021-11-14T10:46:43.707Z"
   },
   {
    "duration": 20,
    "start_time": "2021-11-14T10:46:43.753Z"
   },
   {
    "duration": 47,
    "start_time": "2021-11-14T10:46:43.775Z"
   },
   {
    "duration": 98,
    "start_time": "2021-11-14T10:46:43.826Z"
   },
   {
    "duration": 33,
    "start_time": "2021-11-14T10:46:43.927Z"
   },
   {
    "duration": 59,
    "start_time": "2021-11-14T10:46:43.963Z"
   },
   {
    "duration": 21,
    "start_time": "2021-11-14T10:46:44.026Z"
   },
   {
    "duration": 138,
    "start_time": "2021-11-14T10:46:44.050Z"
   },
   {
    "duration": 71,
    "start_time": "2021-11-14T10:46:44.196Z"
   },
   {
    "duration": 66,
    "start_time": "2021-11-14T10:46:44.271Z"
   },
   {
    "duration": 283,
    "start_time": "2021-11-14T10:46:44.339Z"
   },
   {
    "duration": 910,
    "start_time": "2021-11-14T10:46:44.626Z"
   },
   {
    "duration": 963,
    "start_time": "2021-11-14T10:46:45.539Z"
   },
   {
    "duration": 1455,
    "start_time": "2021-11-14T10:46:46.505Z"
   },
   {
    "duration": 538,
    "start_time": "2021-11-14T10:46:47.963Z"
   },
   {
    "duration": 23,
    "start_time": "2021-11-14T10:46:48.504Z"
   },
   {
    "duration": 509,
    "start_time": "2021-11-14T10:46:48.530Z"
   },
   {
    "duration": 151,
    "start_time": "2021-11-14T10:46:49.041Z"
   },
   {
    "duration": 11,
    "start_time": "2021-11-14T10:46:49.195Z"
   },
   {
    "duration": 61,
    "start_time": "2021-11-14T10:46:49.208Z"
   },
   {
    "duration": 18,
    "start_time": "2021-11-14T10:46:49.271Z"
   },
   {
    "duration": 67,
    "start_time": "2021-11-14T10:46:49.292Z"
   },
   {
    "duration": 76,
    "start_time": "2021-11-14T10:46:49.362Z"
   },
   {
    "duration": 30,
    "start_time": "2021-11-14T10:46:49.442Z"
   },
   {
    "duration": 12,
    "start_time": "2021-11-14T10:46:49.475Z"
   },
   {
    "duration": 38,
    "start_time": "2021-11-14T10:46:49.490Z"
   },
   {
    "duration": 43,
    "start_time": "2021-11-14T10:46:49.531Z"
   },
   {
    "duration": 78,
    "start_time": "2021-11-14T10:46:49.576Z"
   },
   {
    "duration": 4322,
    "start_time": "2021-11-14T10:46:49.658Z"
   },
   {
    "duration": 3077,
    "start_time": "2021-11-14T10:46:53.983Z"
   },
   {
    "duration": 17,
    "start_time": "2021-11-14T10:46:57.063Z"
   },
   {
    "duration": 12,
    "start_time": "2021-11-14T10:46:57.083Z"
   },
   {
    "duration": 29,
    "start_time": "2021-11-14T10:46:57.098Z"
   },
   {
    "duration": 8,
    "start_time": "2021-11-14T10:46:57.130Z"
   },
   {
    "duration": 25,
    "start_time": "2021-11-14T10:46:57.140Z"
   },
   {
    "duration": 8,
    "start_time": "2021-11-14T10:46:57.168Z"
   },
   {
    "duration": 68,
    "start_time": "2021-11-14T10:46:57.179Z"
   },
   {
    "duration": 17,
    "start_time": "2021-11-14T10:46:57.250Z"
   },
   {
    "duration": 8,
    "start_time": "2021-11-14T10:46:57.270Z"
   },
   {
    "duration": 44,
    "start_time": "2021-11-14T10:46:57.280Z"
   },
   {
    "duration": 8,
    "start_time": "2021-11-14T10:46:57.327Z"
   },
   {
    "duration": 1872,
    "start_time": "2021-11-14T10:47:19.128Z"
   },
   {
    "duration": 616,
    "start_time": "2021-11-14T10:47:21.003Z"
   },
   {
    "duration": 60,
    "start_time": "2021-11-14T10:47:21.622Z"
   },
   {
    "duration": 40,
    "start_time": "2021-11-14T10:47:21.685Z"
   },
   {
    "duration": 34,
    "start_time": "2021-11-14T10:47:21.734Z"
   },
   {
    "duration": 234,
    "start_time": "2021-11-14T10:47:21.771Z"
   },
   {
    "duration": 17,
    "start_time": "2021-11-14T10:47:22.007Z"
   },
   {
    "duration": 38,
    "start_time": "2021-11-14T10:47:22.026Z"
   },
   {
    "duration": 261,
    "start_time": "2021-11-14T10:47:22.069Z"
   },
   {
    "duration": 12,
    "start_time": "2021-11-14T10:47:22.333Z"
   },
   {
    "duration": 26,
    "start_time": "2021-11-14T10:47:22.348Z"
   },
   {
    "duration": 187,
    "start_time": "2021-11-14T10:47:22.377Z"
   },
   {
    "duration": 20,
    "start_time": "2021-11-14T10:47:22.567Z"
   },
   {
    "duration": 38,
    "start_time": "2021-11-14T10:47:22.590Z"
   },
   {
    "duration": 38,
    "start_time": "2021-11-14T10:47:22.632Z"
   },
   {
    "duration": 72,
    "start_time": "2021-11-14T10:47:22.673Z"
   },
   {
    "duration": 129,
    "start_time": "2021-11-14T10:47:22.748Z"
   },
   {
    "duration": 53,
    "start_time": "2021-11-14T10:47:22.881Z"
   },
   {
    "duration": 10,
    "start_time": "2021-11-14T10:47:22.937Z"
   },
   {
    "duration": 33,
    "start_time": "2021-11-14T10:47:22.949Z"
   },
   {
    "duration": 90,
    "start_time": "2021-11-14T10:47:22.985Z"
   },
   {
    "duration": 45,
    "start_time": "2021-11-14T10:47:23.077Z"
   },
   {
    "duration": 22,
    "start_time": "2021-11-14T10:47:23.124Z"
   },
   {
    "duration": 21,
    "start_time": "2021-11-14T10:47:23.149Z"
   },
   {
    "duration": 138,
    "start_time": "2021-11-14T10:47:23.173Z"
   },
   {
    "duration": 64,
    "start_time": "2021-11-14T10:47:23.314Z"
   },
   {
    "duration": 66,
    "start_time": "2021-11-14T10:47:23.386Z"
   },
   {
    "duration": 286,
    "start_time": "2021-11-14T10:47:23.456Z"
   },
   {
    "duration": 752,
    "start_time": "2021-11-14T10:47:23.745Z"
   },
   {
    "duration": 834,
    "start_time": "2021-11-14T10:47:24.500Z"
   },
   {
    "duration": 1037,
    "start_time": "2021-11-14T10:47:25.336Z"
   },
   {
    "duration": 551,
    "start_time": "2021-11-14T10:47:26.375Z"
   },
   {
    "duration": 15,
    "start_time": "2021-11-14T10:47:26.929Z"
   },
   {
    "duration": 555,
    "start_time": "2021-11-14T10:47:26.946Z"
   },
   {
    "duration": 155,
    "start_time": "2021-11-14T10:47:27.504Z"
   },
   {
    "duration": 15,
    "start_time": "2021-11-14T10:47:27.662Z"
   },
   {
    "duration": 72,
    "start_time": "2021-11-14T10:47:27.680Z"
   },
   {
    "duration": 14,
    "start_time": "2021-11-14T10:47:27.755Z"
   },
   {
    "duration": 54,
    "start_time": "2021-11-14T10:47:27.772Z"
   },
   {
    "duration": 38,
    "start_time": "2021-11-14T10:47:27.828Z"
   },
   {
    "duration": 21,
    "start_time": "2021-11-14T10:47:27.868Z"
   },
   {
    "duration": 32,
    "start_time": "2021-11-14T10:47:27.892Z"
   },
   {
    "duration": 20,
    "start_time": "2021-11-14T10:47:27.927Z"
   },
   {
    "duration": 50,
    "start_time": "2021-11-14T10:47:27.949Z"
   },
   {
    "duration": 47,
    "start_time": "2021-11-14T10:47:28.022Z"
   },
   {
    "duration": 4426,
    "start_time": "2021-11-14T10:47:28.071Z"
   },
   {
    "duration": 2131,
    "start_time": "2021-11-14T10:47:32.499Z"
   },
   {
    "duration": 13,
    "start_time": "2021-11-14T10:47:34.632Z"
   },
   {
    "duration": 8,
    "start_time": "2021-11-14T10:47:34.648Z"
   },
   {
    "duration": 8,
    "start_time": "2021-11-14T10:47:34.658Z"
   },
   {
    "duration": 15,
    "start_time": "2021-11-14T10:47:34.668Z"
   },
   {
    "duration": 55,
    "start_time": "2021-11-14T10:47:34.686Z"
   },
   {
    "duration": 10,
    "start_time": "2021-11-14T10:47:34.744Z"
   },
   {
    "duration": 30,
    "start_time": "2021-11-14T10:47:34.757Z"
   },
   {
    "duration": 43,
    "start_time": "2021-11-14T10:47:34.790Z"
   },
   {
    "duration": 6,
    "start_time": "2021-11-14T10:47:34.835Z"
   },
   {
    "duration": 7,
    "start_time": "2021-11-14T10:47:34.843Z"
   },
   {
    "duration": 8,
    "start_time": "2021-11-14T10:47:34.852Z"
   },
   {
    "duration": 1409,
    "start_time": "2021-11-15T17:18:56.310Z"
   },
   {
    "duration": 557,
    "start_time": "2021-11-15T17:18:57.721Z"
   },
   {
    "duration": 53,
    "start_time": "2021-11-15T17:18:58.281Z"
   },
   {
    "duration": 15,
    "start_time": "2021-11-15T17:18:58.337Z"
   },
   {
    "duration": 34,
    "start_time": "2021-11-15T17:18:58.359Z"
   },
   {
    "duration": 217,
    "start_time": "2021-11-15T17:18:58.395Z"
   },
   {
    "duration": 11,
    "start_time": "2021-11-15T17:18:58.615Z"
   },
   {
    "duration": 64,
    "start_time": "2021-11-15T17:18:58.633Z"
   },
   {
    "duration": 273,
    "start_time": "2021-11-15T17:18:58.701Z"
   },
   {
    "duration": 14,
    "start_time": "2021-11-15T17:18:58.977Z"
   },
   {
    "duration": 23,
    "start_time": "2021-11-15T17:18:58.993Z"
   },
   {
    "duration": 174,
    "start_time": "2021-11-15T17:18:59.018Z"
   },
   {
    "duration": 11,
    "start_time": "2021-11-15T17:18:59.194Z"
   },
   {
    "duration": 14,
    "start_time": "2021-11-15T17:18:59.208Z"
   },
   {
    "duration": 51,
    "start_time": "2021-11-15T17:18:59.224Z"
   },
   {
    "duration": 51,
    "start_time": "2021-11-15T17:18:59.277Z"
   },
   {
    "duration": 77,
    "start_time": "2021-11-15T17:18:59.331Z"
   },
   {
    "duration": 29,
    "start_time": "2021-11-15T17:18:59.411Z"
   },
   {
    "duration": 21,
    "start_time": "2021-11-15T17:18:59.442Z"
   },
   {
    "duration": 31,
    "start_time": "2021-11-15T17:18:59.466Z"
   },
   {
    "duration": 85,
    "start_time": "2021-11-15T17:18:59.500Z"
   },
   {
    "duration": 24,
    "start_time": "2021-11-15T17:18:59.587Z"
   },
   {
    "duration": 43,
    "start_time": "2021-11-15T17:18:59.619Z"
   },
   {
    "duration": 16,
    "start_time": "2021-11-15T17:18:59.667Z"
   },
   {
    "duration": 119,
    "start_time": "2021-11-15T17:18:59.686Z"
   },
   {
    "duration": 69,
    "start_time": "2021-11-15T17:18:59.808Z"
   },
   {
    "duration": 36,
    "start_time": "2021-11-15T17:18:59.880Z"
   },
   {
    "duration": 182,
    "start_time": "2021-11-15T17:18:59.919Z"
   },
   {
    "duration": 637,
    "start_time": "2021-11-15T17:19:00.103Z"
   },
   {
    "duration": 881,
    "start_time": "2021-11-15T17:19:00.743Z"
   },
   {
    "duration": 862,
    "start_time": "2021-11-15T17:19:01.627Z"
   },
   {
    "duration": 433,
    "start_time": "2021-11-15T17:19:02.492Z"
   },
   {
    "duration": 33,
    "start_time": "2021-11-15T17:19:02.928Z"
   },
   {
    "duration": 588,
    "start_time": "2021-11-15T17:19:02.964Z"
   },
   {
    "duration": 55,
    "start_time": "2021-11-15T17:19:03.555Z"
   },
   {
    "duration": 14,
    "start_time": "2021-11-15T17:19:03.612Z"
   },
   {
    "duration": 66,
    "start_time": "2021-11-15T17:19:03.629Z"
   },
   {
    "duration": 14,
    "start_time": "2021-11-15T17:19:03.697Z"
   },
   {
    "duration": 63,
    "start_time": "2021-11-15T17:19:03.714Z"
   },
   {
    "duration": 40,
    "start_time": "2021-11-15T17:19:03.780Z"
   },
   {
    "duration": 41,
    "start_time": "2021-11-15T17:19:03.822Z"
   },
   {
    "duration": 7,
    "start_time": "2021-11-15T17:19:03.866Z"
   },
   {
    "duration": 18,
    "start_time": "2021-11-15T17:19:03.876Z"
   },
   {
    "duration": 65,
    "start_time": "2021-11-15T17:19:03.896Z"
   },
   {
    "duration": 46,
    "start_time": "2021-11-15T17:19:03.963Z"
   },
   {
    "duration": 422,
    "start_time": "2021-11-15T17:19:04.011Z"
   },
   {
    "duration": -235,
    "start_time": "2021-11-15T17:19:04.670Z"
   },
   {
    "duration": -234,
    "start_time": "2021-11-15T17:19:04.671Z"
   },
   {
    "duration": -235,
    "start_time": "2021-11-15T17:19:04.673Z"
   },
   {
    "duration": -235,
    "start_time": "2021-11-15T17:19:04.674Z"
   },
   {
    "duration": -251,
    "start_time": "2021-11-15T17:19:04.692Z"
   },
   {
    "duration": -252,
    "start_time": "2021-11-15T17:19:04.694Z"
   },
   {
    "duration": -253,
    "start_time": "2021-11-15T17:19:04.697Z"
   },
   {
    "duration": -254,
    "start_time": "2021-11-15T17:19:04.699Z"
   },
   {
    "duration": -253,
    "start_time": "2021-11-15T17:19:04.700Z"
   },
   {
    "duration": -253,
    "start_time": "2021-11-15T17:19:04.701Z"
   },
   {
    "duration": -253,
    "start_time": "2021-11-15T17:19:04.702Z"
   },
   {
    "duration": -252,
    "start_time": "2021-11-15T17:19:04.703Z"
   },
   {
    "duration": 1443,
    "start_time": "2021-11-17T11:09:00.992Z"
   },
   {
    "duration": 628,
    "start_time": "2021-11-17T11:09:02.437Z"
   },
   {
    "duration": 59,
    "start_time": "2021-11-17T11:09:03.069Z"
   },
   {
    "duration": 16,
    "start_time": "2021-11-17T11:09:03.131Z"
   },
   {
    "duration": 61,
    "start_time": "2021-11-17T11:09:03.149Z"
   },
   {
    "duration": 236,
    "start_time": "2021-11-17T11:09:03.214Z"
   },
   {
    "duration": 12,
    "start_time": "2021-11-17T11:09:03.453Z"
   },
   {
    "duration": 53,
    "start_time": "2021-11-17T11:09:03.467Z"
   },
   {
    "duration": 187,
    "start_time": "2021-11-17T11:09:03.525Z"
   },
   {
    "duration": 10,
    "start_time": "2021-11-17T11:09:03.715Z"
   },
   {
    "duration": 64,
    "start_time": "2021-11-17T11:09:03.727Z"
   },
   {
    "duration": 100,
    "start_time": "2021-11-17T11:09:03.793Z"
   },
   {
    "duration": 13,
    "start_time": "2021-11-17T11:09:03.896Z"
   },
   {
    "duration": 20,
    "start_time": "2021-11-17T11:09:03.912Z"
   },
   {
    "duration": 26,
    "start_time": "2021-11-17T11:09:03.934Z"
   },
   {
    "duration": 72,
    "start_time": "2021-11-17T11:09:03.963Z"
   },
   {
    "duration": 131,
    "start_time": "2021-11-17T11:09:04.038Z"
   },
   {
    "duration": 50,
    "start_time": "2021-11-17T11:09:04.172Z"
   },
   {
    "duration": 10,
    "start_time": "2021-11-17T11:09:04.225Z"
   },
   {
    "duration": 28,
    "start_time": "2021-11-17T11:09:04.237Z"
   },
   {
    "duration": 99,
    "start_time": "2021-11-17T11:09:04.268Z"
   },
   {
    "duration": 35,
    "start_time": "2021-11-17T11:09:04.369Z"
   },
   {
    "duration": 23,
    "start_time": "2021-11-17T11:09:04.407Z"
   },
   {
    "duration": 14,
    "start_time": "2021-11-17T11:09:04.432Z"
   },
   {
    "duration": 114,
    "start_time": "2021-11-17T11:09:04.449Z"
   },
   {
    "duration": 66,
    "start_time": "2021-11-17T11:09:04.566Z"
   },
   {
    "duration": 34,
    "start_time": "2021-11-17T11:09:04.638Z"
   },
   {
    "duration": 171,
    "start_time": "2021-11-17T11:09:04.675Z"
   },
   {
    "duration": 651,
    "start_time": "2021-11-17T11:09:04.849Z"
   },
   {
    "duration": 939,
    "start_time": "2021-11-17T11:09:05.503Z"
   },
   {
    "duration": 970,
    "start_time": "2021-11-17T11:09:06.444Z"
   },
   {
    "duration": 457,
    "start_time": "2021-11-17T11:09:07.416Z"
   },
   {
    "duration": 26,
    "start_time": "2021-11-17T11:09:07.875Z"
   },
   {
    "duration": 416,
    "start_time": "2021-11-17T11:09:07.904Z"
   },
   {
    "duration": 132,
    "start_time": "2021-11-17T11:09:08.322Z"
   },
   {
    "duration": 53,
    "start_time": "2021-11-17T11:09:08.457Z"
   },
   {
    "duration": 28,
    "start_time": "2021-11-17T11:09:08.513Z"
   },
   {
    "duration": 166,
    "start_time": "2021-11-17T11:09:08.543Z"
   },
   {
    "duration": 60,
    "start_time": "2021-11-17T11:09:08.712Z"
   },
   {
    "duration": 27,
    "start_time": "2021-11-17T11:09:08.775Z"
   },
   {
    "duration": 18,
    "start_time": "2021-11-17T11:09:08.804Z"
   },
   {
    "duration": 7,
    "start_time": "2021-11-17T11:09:08.824Z"
   },
   {
    "duration": 15,
    "start_time": "2021-11-17T11:09:08.834Z"
   },
   {
    "duration": 50,
    "start_time": "2021-11-17T11:09:08.851Z"
   },
   {
    "duration": 144,
    "start_time": "2021-11-17T11:09:08.903Z"
   },
   {
    "duration": 23,
    "start_time": "2021-11-17T11:09:09.049Z"
   },
   {
    "duration": 61,
    "start_time": "2021-11-17T11:09:09.075Z"
   },
   {
    "duration": 5238,
    "start_time": "2021-11-17T11:09:09.139Z"
   },
   {
    "duration": 1815,
    "start_time": "2021-11-17T11:09:14.380Z"
   },
   {
    "duration": 14,
    "start_time": "2021-11-17T11:09:16.198Z"
   },
   {
    "duration": 12,
    "start_time": "2021-11-17T11:09:16.214Z"
   },
   {
    "duration": 10,
    "start_time": "2021-11-17T11:09:16.229Z"
   },
   {
    "duration": 23,
    "start_time": "2021-11-17T11:09:16.242Z"
   },
   {
    "duration": 35,
    "start_time": "2021-11-17T11:09:16.268Z"
   },
   {
    "duration": 21,
    "start_time": "2021-11-17T11:09:16.305Z"
   },
   {
    "duration": 13,
    "start_time": "2021-11-17T11:09:16.329Z"
   },
   {
    "duration": 7,
    "start_time": "2021-11-17T11:09:16.344Z"
   },
   {
    "duration": 46,
    "start_time": "2021-11-17T11:09:16.353Z"
   }
  ],
  "kernelspec": {
   "display_name": "Python 3",
   "language": "python",
   "name": "python3"
  },
  "language_info": {
   "codemirror_mode": {
    "name": "ipython",
    "version": 3
   },
   "file_extension": ".py",
   "mimetype": "text/x-python",
   "name": "python",
   "nbconvert_exporter": "python",
   "pygments_lexer": "ipython3",
   "version": "3.8.8"
  },
  "toc": {
   "base_numbering": 1,
   "nav_menu": {},
   "number_sections": true,
   "sideBar": true,
   "skip_h1_title": true,
   "title_cell": "Table of Contents",
   "title_sidebar": "Contents",
   "toc_cell": false,
   "toc_position": {},
   "toc_section_display": true,
   "toc_window_display": false
  }
 },
 "nbformat": 4,
 "nbformat_minor": 5
}
